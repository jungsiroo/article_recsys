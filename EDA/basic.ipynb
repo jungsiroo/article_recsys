{
 "cells": [
  {
   "cell_type": "code",
   "execution_count": 1,
   "metadata": {},
   "outputs": [],
   "source": [
    "import pandas as pd\n",
    "import numpy as np\n",
    "import matplotlib.pyplot as plt\n",
    "import seaborn as sns"
   ]
  },
  {
   "cell_type": "code",
   "execution_count": 2,
   "metadata": {},
   "outputs": [],
   "source": [
    "article = pd.read_csv('../data/article_info.csv')\n",
    "view_log = pd.read_csv('../data/view_log.csv')"
   ]
  },
  {
   "cell_type": "code",
   "execution_count": 17,
   "metadata": {},
   "outputs": [],
   "source": [
    "article_cnt = pd.DataFrame(view_log.groupby(['articleID'])['userID'].count()).reset_index()\n",
    "article_cnt.columns = ['articleID', 'count']\n",
    "article_cnt = article_cnt.sort_values(by='count', ascending=False)"
   ]
  },
  {
   "cell_type": "code",
   "execution_count": 27,
   "metadata": {},
   "outputs": [
    {
     "data": {
      "image/png": "[encoded data removed]",
      "text/plain": [
       "<Figure size 640x480 with 1 Axes>"
      ]
     },
     "metadata": {},
     "output_type": "display_data"
    }
   ],
   "source": [
    "sns.barplot(view_log['articleID'].value_counts()[:5])\n",
    "plt.xticks(rotation=45)\n",
    "plt.show()"
   ]
  },
  {
   "cell_type": "code",
   "execution_count": 92,
   "metadata": {},
   "outputs": [
    {
     "data": {
      "text/html": [
       "<div>\n",
       "<style scoped>\n",
       "    .dataframe tbody tr th:only-of-type {\n",
       "        vertical-align: middle;\n",
       "    }\n",
       "\n",
       "    .dataframe tbody tr th {\n",
       "        vertical-align: top;\n",
       "    }\n",
       "\n",
       "    .dataframe thead th {\n",
       "        text-align: right;\n",
       "    }\n",
       "</style>\n",
       "<table border=\"1\" class=\"dataframe\">\n",
       "  <thead>\n",
       "    <tr style=\"text-align: right;\">\n",
       "      <th></th>\n",
       "      <th>2496</th>\n",
       "    </tr>\n",
       "  </thead>\n",
       "  <tbody>\n",
       "    <tr>\n",
       "      <th>articleID</th>\n",
       "      <td>ARTICLE_2496</td>\n",
       "    </tr>\n",
       "    <tr>\n",
       "      <th>Title</th>\n",
       "      <td>Machine learning is a poor fit for most busine...</td>\n",
       "    </tr>\n",
       "    <tr>\n",
       "      <th>Content</th>\n",
       "      <td>Machine learning is the new battle cry for the...</td>\n",
       "    </tr>\n",
       "    <tr>\n",
       "      <th>Format</th>\n",
       "      <td>HTML</td>\n",
       "    </tr>\n",
       "    <tr>\n",
       "      <th>Language</th>\n",
       "      <td>en</td>\n",
       "    </tr>\n",
       "    <tr>\n",
       "      <th>userID</th>\n",
       "      <td>USER_0222</td>\n",
       "    </tr>\n",
       "    <tr>\n",
       "      <th>userCountry</th>\n",
       "      <td>NaN</td>\n",
       "    </tr>\n",
       "    <tr>\n",
       "      <th>userRegion</th>\n",
       "      <td>NaN</td>\n",
       "    </tr>\n",
       "    <tr>\n",
       "      <th>content_len</th>\n",
       "      <td>1617</td>\n",
       "    </tr>\n",
       "    <tr>\n",
       "      <th>title_len</th>\n",
       "      <td>50</td>\n",
       "    </tr>\n",
       "  </tbody>\n",
       "</table>\n",
       "</div>"
      ],
      "text/plain": [
       "                                                          2496\n",
       "articleID                                         ARTICLE_2496\n",
       "Title        Machine learning is a poor fit for most busine...\n",
       "Content      Machine learning is the new battle cry for the...\n",
       "Format                                                    HTML\n",
       "Language                                                    en\n",
       "userID                                               USER_0222\n",
       "userCountry                                                NaN\n",
       "userRegion                                                 NaN\n",
       "content_len                                               1617\n",
       "title_len                                                   50"
      ]
     },
     "execution_count": 92,
     "metadata": {},
     "output_type": "execute_result"
    }
   ],
   "source": [
    "article.sample().T"
   ]
  },
  {
   "cell_type": "code",
   "execution_count": 50,
   "metadata": {},
   "outputs": [],
   "source": [
    "def null_values(data):\n",
    "    ret = pd.DataFrame()\n",
    "    ret.index = data.columns\n",
    "    ROW = data.shape[0]\n",
    "\n",
    "    null_percentage = []\n",
    "    for column in ret.index:\n",
    "        ncnt = data[column].isnull().sum()\n",
    "        null_percentage.append(ncnt / ROW * 100)\n",
    "    \n",
    "    ret['null_percentage'] = null_percentage\n",
    "    ret = ret.reset_index()\n",
    "    ax = sns.barplot(x=ret['index'], y=ret['null_percentage'])\n",
    "    plt.xticks(rotation=70)\n",
    "    plt.tight_layout()\n",
    "\n",
    "    for p in ax.patches:\n",
    "        ax.annotate(f'{round(p.get_height(), 2)}', \n",
    "                    (p.get_x() + p.get_width() / 2., p.get_height()), \n",
    "                    ha='center', va='bottom')  # Adjust position as needed\n",
    "    return ret"
   ]
  },
  {
   "cell_type": "code",
   "execution_count": 51,
   "metadata": {},
   "outputs": [
    {
     "data": {
      "text/html": [
       "<div>\n",
       "<style scoped>\n",
       "    .dataframe tbody tr th:only-of-type {\n",
       "        vertical-align: middle;\n",
       "    }\n",
       "\n",
       "    .dataframe tbody tr th {\n",
       "        vertical-align: top;\n",
       "    }\n",
       "\n",
       "    .dataframe thead th {\n",
       "        text-align: right;\n",
       "    }\n",
       "</style>\n",
       "<table border=\"1\" class=\"dataframe\">\n",
       "  <thead>\n",
       "    <tr style=\"text-align: right;\">\n",
       "      <th></th>\n",
       "      <th>index</th>\n",
       "      <th>null_percentage</th>\n",
       "    </tr>\n",
       "  </thead>\n",
       "  <tbody>\n",
       "    <tr>\n",
       "      <th>0</th>\n",
       "      <td>userID</td>\n",
       "      <td>0.0</td>\n",
       "    </tr>\n",
       "    <tr>\n",
       "      <th>1</th>\n",
       "      <td>articleID</td>\n",
       "      <td>0.0</td>\n",
       "    </tr>\n",
       "    <tr>\n",
       "      <th>2</th>\n",
       "      <td>userRegion</td>\n",
       "      <td>0.0</td>\n",
       "    </tr>\n",
       "    <tr>\n",
       "      <th>3</th>\n",
       "      <td>userCountry</td>\n",
       "      <td>0.0</td>\n",
       "    </tr>\n",
       "  </tbody>\n",
       "</table>\n",
       "</div>"
      ],
      "text/plain": [
       "         index  null_percentage\n",
       "0       userID              0.0\n",
       "1    articleID              0.0\n",
       "2   userRegion              0.0\n",
       "3  userCountry              0.0"
      ]
     },
     "execution_count": 51,
     "metadata": {},
     "output_type": "execute_result"
    },
    {
     "data": {
      "image/png": "[encoded data removed]",
      "text/plain": [
       "<Figure size 640x480 with 1 Axes>"
      ]
     },
     "metadata": {},
     "output_type": "display_data"
    }
   ],
   "source": [
    "null_values(view_log)"
   ]
  },
  {
   "cell_type": "markdown",
   "metadata": {},
   "source": [
    "# Article Info"
   ]
  },
  {
   "cell_type": "code",
   "execution_count": 52,
   "metadata": {},
   "outputs": [
    {
     "data": {
      "text/plain": [
       "<Axes: xlabel='Language', ylabel='count'>"
      ]
     },
     "execution_count": 52,
     "metadata": {},
     "output_type": "execute_result"
    },
    {
     "data": {
      "image/png": "[encoded data removed]",
      "text/plain": [
       "<Figure size 640x480 with 1 Axes>"
      ]
     },
     "metadata": {},
     "output_type": "display_data"
    }
   ],
   "source": [
    "sns.barplot(article['Language'].value_counts())"
   ]
  },
  {
   "cell_type": "code",
   "execution_count": 53,
   "metadata": {},
   "outputs": [
    {
     "data": {
      "text/plain": [
       "<Axes: xlabel='Format', ylabel='count'>"
      ]
     },
     "execution_count": 53,
     "metadata": {},
     "output_type": "execute_result"
    },
    {
     "data": {
      "image/png": "[encoded data removed]",
      "text/plain": [
       "<Figure size 640x480 with 1 Axes>"
      ]
     },
     "metadata": {},
     "output_type": "display_data"
    }
   ],
   "source": [
    "sns.barplot(article['Format'].value_counts())"
   ]
  },
  {
   "cell_type": "code",
   "execution_count": 54,
   "metadata": {},
   "outputs": [],
   "source": [
    "pt_article = article[article['Language'] == 'pt']\n",
    "la_article = article[article['Language'] == 'la']\n",
    "es_article = article[article['Language'] == 'es']\n",
    "jp_article = article[article['Language'] == 'ja']"
   ]
  },
  {
   "cell_type": "code",
   "execution_count": 55,
   "metadata": {},
   "outputs": [
    {
     "data": {
      "text/html": [
       "<div>\n",
       "<style scoped>\n",
       "    .dataframe tbody tr th:only-of-type {\n",
       "        vertical-align: middle;\n",
       "    }\n",
       "\n",
       "    .dataframe tbody tr th {\n",
       "        vertical-align: top;\n",
       "    }\n",
       "\n",
       "    .dataframe thead th {\n",
       "        text-align: right;\n",
       "    }\n",
       "</style>\n",
       "<table border=\"1\" class=\"dataframe\">\n",
       "  <thead>\n",
       "    <tr style=\"text-align: right;\">\n",
       "      <th></th>\n",
       "      <th>524</th>\n",
       "    </tr>\n",
       "  </thead>\n",
       "  <tbody>\n",
       "    <tr>\n",
       "      <th>articleID</th>\n",
       "      <td>ARTICLE_0524</td>\n",
       "    </tr>\n",
       "    <tr>\n",
       "      <th>Title</th>\n",
       "      <td>Costa Rica presenta su primer edificio constru...</td>\n",
       "    </tr>\n",
       "    <tr>\n",
       "      <th>Content</th>\n",
       "      <td>San José, 22 abr (EFE).- Autoridades de Costa ...</td>\n",
       "    </tr>\n",
       "    <tr>\n",
       "      <th>Format</th>\n",
       "      <td>HTML</td>\n",
       "    </tr>\n",
       "    <tr>\n",
       "      <th>Language</th>\n",
       "      <td>es</td>\n",
       "    </tr>\n",
       "    <tr>\n",
       "      <th>userID</th>\n",
       "      <td>USER_0704</td>\n",
       "    </tr>\n",
       "    <tr>\n",
       "      <th>userCountry</th>\n",
       "      <td>NaN</td>\n",
       "    </tr>\n",
       "    <tr>\n",
       "      <th>userRegion</th>\n",
       "      <td>NaN</td>\n",
       "    </tr>\n",
       "  </tbody>\n",
       "</table>\n",
       "</div>"
      ],
      "text/plain": [
       "                                                           524\n",
       "articleID                                         ARTICLE_0524\n",
       "Title        Costa Rica presenta su primer edificio constru...\n",
       "Content      San José, 22 abr (EFE).- Autoridades de Costa ...\n",
       "Format                                                    HTML\n",
       "Language                                                    es\n",
       "userID                                               USER_0704\n",
       "userCountry                                                NaN\n",
       "userRegion                                                 NaN"
      ]
     },
     "execution_count": 55,
     "metadata": {},
     "output_type": "execute_result"
    }
   ],
   "source": [
    "es_article.sample().T"
   ]
  },
  {
   "cell_type": "code",
   "execution_count": 56,
   "metadata": {},
   "outputs": [
    {
     "data": {
      "text/plain": [
       "<Axes: xlabel='title_len', ylabel='Count'>"
      ]
     },
     "execution_count": 56,
     "metadata": {},
     "output_type": "execute_result"
    },
    {
     "data": {
      "image/png": "[encoded data removed]",
      "text/plain": [
       "<Figure size 1200x600 with 2 Axes>"
      ]
     },
     "metadata": {},
     "output_type": "display_data"
    }
   ],
   "source": [
    "article['content_len'] = article['Content'].apply(len)\n",
    "article['title_len'] = article['Title'].apply(len)\n",
    "\n",
    "\n",
    "fig, axes = plt.subplots(1, 2, figsize=(12, 6))\n",
    "sns.histplot(article['content_len'], ax=axes[0])\n",
    "sns.histplot(article['title_len'], ax=axes[1])"
   ]
  },
  {
   "cell_type": "code",
   "execution_count": 57,
   "metadata": {},
   "outputs": [],
   "source": [
    "view_log_cnt = pd.DataFrame(view_log.groupby(by='articleID')['userID'].count()).reset_index()\n",
    "view_log_cnt.columns = ['articleID', 'count']"
   ]
  },
  {
   "cell_type": "code",
   "execution_count": 58,
   "metadata": {},
   "outputs": [],
   "source": [
    "article_meta = view_log_cnt.merge(article[['articleID', 'Format', 'Language', 'content_len', 'title_len']], on='articleID')"
   ]
  },
  {
   "cell_type": "code",
   "execution_count": 59,
   "metadata": {},
   "outputs": [
    {
     "data": {
      "text/html": [
       "<div>\n",
       "<style scoped>\n",
       "    .dataframe tbody tr th:only-of-type {\n",
       "        vertical-align: middle;\n",
       "    }\n",
       "\n",
       "    .dataframe tbody tr th {\n",
       "        vertical-align: top;\n",
       "    }\n",
       "\n",
       "    .dataframe thead th {\n",
       "        text-align: right;\n",
       "    }\n",
       "</style>\n",
       "<table border=\"1\" class=\"dataframe\">\n",
       "  <thead>\n",
       "    <tr style=\"text-align: right;\">\n",
       "      <th></th>\n",
       "      <th>articleID</th>\n",
       "      <th>count</th>\n",
       "      <th>Format</th>\n",
       "      <th>Language</th>\n",
       "      <th>content_len</th>\n",
       "      <th>title_len</th>\n",
       "    </tr>\n",
       "  </thead>\n",
       "  <tbody>\n",
       "    <tr>\n",
       "      <th>0</th>\n",
       "      <td>ARTICLE_0000</td>\n",
       "      <td>21</td>\n",
       "      <td>HTML</td>\n",
       "      <td>en</td>\n",
       "      <td>19831</td>\n",
       "      <td>28</td>\n",
       "    </tr>\n",
       "    <tr>\n",
       "      <th>1</th>\n",
       "      <td>ARTICLE_0001</td>\n",
       "      <td>12</td>\n",
       "      <td>HTML</td>\n",
       "      <td>en</td>\n",
       "      <td>2165</td>\n",
       "      <td>84</td>\n",
       "    </tr>\n",
       "    <tr>\n",
       "      <th>2</th>\n",
       "      <td>ARTICLE_0002</td>\n",
       "      <td>6</td>\n",
       "      <td>HTML</td>\n",
       "      <td>en</td>\n",
       "      <td>15743</td>\n",
       "      <td>44</td>\n",
       "    </tr>\n",
       "    <tr>\n",
       "      <th>3</th>\n",
       "      <td>ARTICLE_0003</td>\n",
       "      <td>3</td>\n",
       "      <td>HTML</td>\n",
       "      <td>en</td>\n",
       "      <td>8861</td>\n",
       "      <td>77</td>\n",
       "    </tr>\n",
       "    <tr>\n",
       "      <th>4</th>\n",
       "      <td>ARTICLE_0004</td>\n",
       "      <td>10</td>\n",
       "      <td>HTML</td>\n",
       "      <td>en</td>\n",
       "      <td>4065</td>\n",
       "      <td>64</td>\n",
       "    </tr>\n",
       "  </tbody>\n",
       "</table>\n",
       "</div>"
      ],
      "text/plain": [
       "      articleID  count Format Language  content_len  title_len\n",
       "0  ARTICLE_0000     21   HTML       en        19831         28\n",
       "1  ARTICLE_0001     12   HTML       en         2165         84\n",
       "2  ARTICLE_0002      6   HTML       en        15743         44\n",
       "3  ARTICLE_0003      3   HTML       en         8861         77\n",
       "4  ARTICLE_0004     10   HTML       en         4065         64"
      ]
     },
     "execution_count": 59,
     "metadata": {},
     "output_type": "execute_result"
    }
   ],
   "source": [
    "article_meta.head()"
   ]
  },
  {
   "cell_type": "code",
   "execution_count": 60,
   "metadata": {},
   "outputs": [
    {
     "data": {
      "text/plain": [
       "<Axes: >"
      ]
     },
     "execution_count": 60,
     "metadata": {},
     "output_type": "execute_result"
    },
    {
     "data": {
      "image/png": "[encoded data removed]",
      "text/plain": [
       "<Figure size 1100x900 with 2 Axes>"
      ]
     },
     "metadata": {},
     "output_type": "display_data"
    }
   ],
   "source": [
    "corr = article_meta[['content_len', 'title_len', 'count']].corr()\n",
    "\n",
    "\n",
    "# Generate a mask for the upper triangle\n",
    "mask = np.triu(np.ones_like(corr, dtype=bool))\n",
    "\n",
    "# Set up the matplotlib figure\n",
    "f, ax = plt.subplots(figsize=(11, 9))\n",
    "\n",
    "# Generate a custom diverging colormap\n",
    "cmap = sns.diverging_palette(230, 20, as_cmap=True)\n",
    "\n",
    "# Draw the heatmap with the mask and correct aspect ratio\n",
    "sns.heatmap(corr, annot=True, mask=mask, cmap=cmap, vmax=1, vmin=-1, center=0,\n",
    "            square=True, linewidths=.5, cbar_kws={\"shrink\": .5})"
   ]
  },
  {
   "cell_type": "markdown",
   "metadata": {},
   "source": [
    "# View_log"
   ]
  },
  {
   "cell_type": "code",
   "execution_count": 61,
   "metadata": {},
   "outputs": [],
   "source": [
    "lang_cnt = pd.DataFrame(article_meta['Language'].value_counts()).reset_index()\n",
    "lang_cnt.columns = ['Language', 'count']"
   ]
  },
  {
   "cell_type": "code",
   "execution_count": 62,
   "metadata": {},
   "outputs": [],
   "source": [
    "lang_view = pd.DataFrame(article_meta.groupby(by='Language')['count'].sum()).reset_index()\n",
    "lang_view.columns = ['Language', 'view_sum']"
   ]
  },
  {
   "cell_type": "code",
   "execution_count": 63,
   "metadata": {},
   "outputs": [],
   "source": [
    "lang_info = lang_view.merge(lang_cnt, on='Language')"
   ]
  },
  {
   "cell_type": "code",
   "execution_count": 64,
   "metadata": {},
   "outputs": [],
   "source": [
    "lang_info['avg_view_per_lang'] = round(lang_info['view_sum'] / lang_info['count'],3)"
   ]
  },
  {
   "cell_type": "code",
   "execution_count": 86,
   "metadata": {},
   "outputs": [
    {
     "data": {
      "text/html": [
       "<div>\n",
       "<style scoped>\n",
       "    .dataframe tbody tr th:only-of-type {\n",
       "        vertical-align: middle;\n",
       "    }\n",
       "\n",
       "    .dataframe tbody tr th {\n",
       "        vertical-align: top;\n",
       "    }\n",
       "\n",
       "    .dataframe thead th {\n",
       "        text-align: right;\n",
       "    }\n",
       "</style>\n",
       "<table border=\"1\" class=\"dataframe\">\n",
       "  <thead>\n",
       "    <tr style=\"text-align: right;\">\n",
       "      <th></th>\n",
       "      <th>Language</th>\n",
       "      <th>view_sum</th>\n",
       "      <th>count</th>\n",
       "      <th>avg_view_per_lang</th>\n",
       "    </tr>\n",
       "  </thead>\n",
       "  <tbody>\n",
       "    <tr>\n",
       "      <th>0</th>\n",
       "      <td>en</td>\n",
       "      <td>27612</td>\n",
       "      <td>2065</td>\n",
       "      <td>13.371</td>\n",
       "    </tr>\n",
       "    <tr>\n",
       "      <th>1</th>\n",
       "      <td>es</td>\n",
       "      <td>6</td>\n",
       "      <td>2</td>\n",
       "      <td>3.000</td>\n",
       "    </tr>\n",
       "    <tr>\n",
       "      <th>2</th>\n",
       "      <td>ja</td>\n",
       "      <td>24</td>\n",
       "      <td>2</td>\n",
       "      <td>12.000</td>\n",
       "    </tr>\n",
       "    <tr>\n",
       "      <th>3</th>\n",
       "      <td>la</td>\n",
       "      <td>29</td>\n",
       "      <td>2</td>\n",
       "      <td>14.500</td>\n",
       "    </tr>\n",
       "    <tr>\n",
       "      <th>4</th>\n",
       "      <td>pt</td>\n",
       "      <td>15046</td>\n",
       "      <td>808</td>\n",
       "      <td>18.621</td>\n",
       "    </tr>\n",
       "  </tbody>\n",
       "</table>\n",
       "</div>"
      ],
      "text/plain": [
       "  Language  view_sum  count  avg_view_per_lang\n",
       "0       en     27612   2065             13.371\n",
       "1       es         6      2              3.000\n",
       "2       ja        24      2             12.000\n",
       "3       la        29      2             14.500\n",
       "4       pt     15046    808             18.621"
      ]
     },
     "execution_count": 86,
     "metadata": {},
     "output_type": "execute_result"
    }
   ],
   "source": [
    "lang_info"
   ]
  },
  {
   "cell_type": "code",
   "execution_count": 65,
   "metadata": {},
   "outputs": [],
   "source": [
    "user_per_article = view_log.groupby(by='articleID')['userID'].unique().reset_index()\n",
    "user_per_article.columns = ['articleID', 'viewed_users']"
   ]
  },
  {
   "cell_type": "code",
   "execution_count": 66,
   "metadata": {},
   "outputs": [
    {
     "data": {
      "text/plain": [
       "array(['US', 'BR', 'JP', 'KR', 'CN', 'DE', 'PT', 'CO', 'AU', 'MY', 'SG',\n",
       "       'CA', 'IE', 'IT', 'AR', 'CL', 'NL', 'GB', 'CH', 'ES', 'IS'],\n",
       "      dtype=object)"
      ]
     },
     "execution_count": 66,
     "metadata": {},
     "output_type": "execute_result"
    }
   ],
   "source": [
    "view_log.userCountry.unique()"
   ]
  },
  {
   "cell_type": "code",
   "execution_count": 67,
   "metadata": {},
   "outputs": [],
   "source": [
    "import duckdb\n",
    "# MEMORY 내에서만 활용\n",
    "conn = duckdb.connect()"
   ]
  },
  {
   "cell_type": "code",
   "execution_count": 68,
   "metadata": {},
   "outputs": [],
   "source": [
    "view_log_meta = conn.sql(f\"\"\"\n",
    "with author as (\n",
    "select \n",
    "    distinct(userID)\n",
    "from\n",
    "    article)\n",
    "\n",
    "select\n",
    "    *,\n",
    "    case\n",
    "        when userID in (select * from author) then 1\n",
    "        else 0\n",
    "    end as is_author\n",
    "from\n",
    "    view_log\n",
    "\"\"\").df()"
   ]
  },
  {
   "cell_type": "code",
   "execution_count": 69,
   "metadata": {},
   "outputs": [
    {
     "data": {
      "text/html": [
       "<div>\n",
       "<style scoped>\n",
       "    .dataframe tbody tr th:only-of-type {\n",
       "        vertical-align: middle;\n",
       "    }\n",
       "\n",
       "    .dataframe tbody tr th {\n",
       "        vertical-align: top;\n",
       "    }\n",
       "\n",
       "    .dataframe thead th {\n",
       "        text-align: right;\n",
       "    }\n",
       "</style>\n",
       "<table border=\"1\" class=\"dataframe\">\n",
       "  <thead>\n",
       "    <tr style=\"text-align: right;\">\n",
       "      <th></th>\n",
       "      <th>userID</th>\n",
       "      <th>articleID</th>\n",
       "      <th>userRegion</th>\n",
       "      <th>userCountry</th>\n",
       "      <th>is_author</th>\n",
       "    </tr>\n",
       "  </thead>\n",
       "  <tbody>\n",
       "    <tr>\n",
       "      <th>0</th>\n",
       "      <td>USER_0000</td>\n",
       "      <td>ARTICLE_0661</td>\n",
       "      <td>NY</td>\n",
       "      <td>US</td>\n",
       "      <td>1</td>\n",
       "    </tr>\n",
       "    <tr>\n",
       "      <th>1</th>\n",
       "      <td>USER_0000</td>\n",
       "      <td>ARTICLE_2316</td>\n",
       "      <td>NY</td>\n",
       "      <td>US</td>\n",
       "      <td>1</td>\n",
       "    </tr>\n",
       "    <tr>\n",
       "      <th>2</th>\n",
       "      <td>USER_0000</td>\n",
       "      <td>ARTICLE_1345</td>\n",
       "      <td>NY</td>\n",
       "      <td>US</td>\n",
       "      <td>1</td>\n",
       "    </tr>\n",
       "    <tr>\n",
       "      <th>3</th>\n",
       "      <td>USER_0000</td>\n",
       "      <td>ARTICLE_1089</td>\n",
       "      <td>NY</td>\n",
       "      <td>US</td>\n",
       "      <td>1</td>\n",
       "    </tr>\n",
       "    <tr>\n",
       "      <th>4</th>\n",
       "      <td>USER_0000</td>\n",
       "      <td>ARTICLE_1484</td>\n",
       "      <td>NY</td>\n",
       "      <td>US</td>\n",
       "      <td>1</td>\n",
       "    </tr>\n",
       "    <tr>\n",
       "      <th>...</th>\n",
       "      <td>...</td>\n",
       "      <td>...</td>\n",
       "      <td>...</td>\n",
       "      <td>...</td>\n",
       "      <td>...</td>\n",
       "    </tr>\n",
       "    <tr>\n",
       "      <th>42712</th>\n",
       "      <td>USER_1420</td>\n",
       "      <td>ARTICLE_0682</td>\n",
       "      <td>SP</td>\n",
       "      <td>BR</td>\n",
       "      <td>1</td>\n",
       "    </tr>\n",
       "    <tr>\n",
       "      <th>42713</th>\n",
       "      <td>USER_1420</td>\n",
       "      <td>ARTICLE_2179</td>\n",
       "      <td>SP</td>\n",
       "      <td>BR</td>\n",
       "      <td>1</td>\n",
       "    </tr>\n",
       "    <tr>\n",
       "      <th>42714</th>\n",
       "      <td>USER_1420</td>\n",
       "      <td>ARTICLE_1848</td>\n",
       "      <td>SP</td>\n",
       "      <td>BR</td>\n",
       "      <td>1</td>\n",
       "    </tr>\n",
       "    <tr>\n",
       "      <th>42715</th>\n",
       "      <td>USER_1420</td>\n",
       "      <td>ARTICLE_0030</td>\n",
       "      <td>SP</td>\n",
       "      <td>BR</td>\n",
       "      <td>1</td>\n",
       "    </tr>\n",
       "    <tr>\n",
       "      <th>42716</th>\n",
       "      <td>USER_1420</td>\n",
       "      <td>ARTICLE_2423</td>\n",
       "      <td>SP</td>\n",
       "      <td>BR</td>\n",
       "      <td>1</td>\n",
       "    </tr>\n",
       "  </tbody>\n",
       "</table>\n",
       "<p>42717 rows × 5 columns</p>\n",
       "</div>"
      ],
      "text/plain": [
       "          userID     articleID userRegion userCountry  is_author\n",
       "0      USER_0000  ARTICLE_0661         NY          US          1\n",
       "1      USER_0000  ARTICLE_2316         NY          US          1\n",
       "2      USER_0000  ARTICLE_1345         NY          US          1\n",
       "3      USER_0000  ARTICLE_1089         NY          US          1\n",
       "4      USER_0000  ARTICLE_1484         NY          US          1\n",
       "...          ...           ...        ...         ...        ...\n",
       "42712  USER_1420  ARTICLE_0682         SP          BR          1\n",
       "42713  USER_1420  ARTICLE_2179         SP          BR          1\n",
       "42714  USER_1420  ARTICLE_1848         SP          BR          1\n",
       "42715  USER_1420  ARTICLE_0030         SP          BR          1\n",
       "42716  USER_1420  ARTICLE_2423         SP          BR          1\n",
       "\n",
       "[42717 rows x 5 columns]"
      ]
     },
     "execution_count": 69,
     "metadata": {},
     "output_type": "execute_result"
    }
   ],
   "source": [
    "view_log_meta"
   ]
  },
  {
   "cell_type": "code",
   "execution_count": 70,
   "metadata": {},
   "outputs": [],
   "source": [
    "total_author = article['userID'].nunique()"
   ]
  },
  {
   "cell_type": "code",
   "execution_count": 71,
   "metadata": {},
   "outputs": [
    {
     "data": {
      "text/plain": [
       "251"
      ]
     },
     "execution_count": 71,
     "metadata": {},
     "output_type": "execute_result"
    }
   ],
   "source": [
    "total_author"
   ]
  },
  {
   "cell_type": "code",
   "execution_count": 72,
   "metadata": {},
   "outputs": [],
   "source": [
    "author_per_article = view_log_meta.groupby(by='articleID')['is_author'].sum() / total_author * 100"
   ]
  },
  {
   "cell_type": "code",
   "execution_count": 73,
   "metadata": {},
   "outputs": [],
   "source": [
    "author_per_article = author_per_article.reset_index()\n",
    "author_per_article.columns = ['articleID', 'percentage']"
   ]
  },
  {
   "cell_type": "code",
   "execution_count": 74,
   "metadata": {},
   "outputs": [
    {
     "data": {
      "text/plain": [
       "<Axes: ylabel='percentage'>"
      ]
     },
     "execution_count": 74,
     "metadata": {},
     "output_type": "execute_result"
    },
    {
     "data": {
      "image/png": "[encoded data removed]",
      "text/plain": [
       "<Figure size 640x480 with 1 Axes>"
      ]
     },
     "metadata": {},
     "output_type": "display_data"
    }
   ],
   "source": [
    "sns.boxplot(author_per_article['percentage'])"
   ]
  },
  {
   "cell_type": "code",
   "execution_count": 75,
   "metadata": {},
   "outputs": [],
   "source": [
    "article_meta = article_meta.merge(author_per_article, on='articleID')"
   ]
  },
  {
   "cell_type": "code",
   "execution_count": 87,
   "metadata": {},
   "outputs": [
    {
     "data": {
      "text/html": [
       "<div>\n",
       "<style scoped>\n",
       "    .dataframe tbody tr th:only-of-type {\n",
       "        vertical-align: middle;\n",
       "    }\n",
       "\n",
       "    .dataframe tbody tr th {\n",
       "        vertical-align: top;\n",
       "    }\n",
       "\n",
       "    .dataframe thead th {\n",
       "        text-align: right;\n",
       "    }\n",
       "</style>\n",
       "<table border=\"1\" class=\"dataframe\">\n",
       "  <thead>\n",
       "    <tr style=\"text-align: right;\">\n",
       "      <th></th>\n",
       "      <th>articleID</th>\n",
       "      <th>count</th>\n",
       "      <th>Format</th>\n",
       "      <th>Language</th>\n",
       "      <th>content_len</th>\n",
       "      <th>title_len</th>\n",
       "      <th>percentage</th>\n",
       "    </tr>\n",
       "  </thead>\n",
       "  <tbody>\n",
       "    <tr>\n",
       "      <th>0</th>\n",
       "      <td>ARTICLE_0000</td>\n",
       "      <td>21</td>\n",
       "      <td>HTML</td>\n",
       "      <td>en</td>\n",
       "      <td>19831</td>\n",
       "      <td>28</td>\n",
       "      <td>3.984064</td>\n",
       "    </tr>\n",
       "    <tr>\n",
       "      <th>1</th>\n",
       "      <td>ARTICLE_0001</td>\n",
       "      <td>12</td>\n",
       "      <td>HTML</td>\n",
       "      <td>en</td>\n",
       "      <td>2165</td>\n",
       "      <td>84</td>\n",
       "      <td>3.585657</td>\n",
       "    </tr>\n",
       "    <tr>\n",
       "      <th>2</th>\n",
       "      <td>ARTICLE_0002</td>\n",
       "      <td>6</td>\n",
       "      <td>HTML</td>\n",
       "      <td>en</td>\n",
       "      <td>15743</td>\n",
       "      <td>44</td>\n",
       "      <td>1.992032</td>\n",
       "    </tr>\n",
       "    <tr>\n",
       "      <th>3</th>\n",
       "      <td>ARTICLE_0003</td>\n",
       "      <td>3</td>\n",
       "      <td>HTML</td>\n",
       "      <td>en</td>\n",
       "      <td>8861</td>\n",
       "      <td>77</td>\n",
       "      <td>0.796813</td>\n",
       "    </tr>\n",
       "    <tr>\n",
       "      <th>4</th>\n",
       "      <td>ARTICLE_0004</td>\n",
       "      <td>10</td>\n",
       "      <td>HTML</td>\n",
       "      <td>en</td>\n",
       "      <td>4065</td>\n",
       "      <td>64</td>\n",
       "      <td>2.788845</td>\n",
       "    </tr>\n",
       "    <tr>\n",
       "      <th>...</th>\n",
       "      <td>...</td>\n",
       "      <td>...</td>\n",
       "      <td>...</td>\n",
       "      <td>...</td>\n",
       "      <td>...</td>\n",
       "      <td>...</td>\n",
       "      <td>...</td>\n",
       "    </tr>\n",
       "    <tr>\n",
       "      <th>2874</th>\n",
       "      <td>ARTICLE_3003</td>\n",
       "      <td>36</td>\n",
       "      <td>HTML</td>\n",
       "      <td>pt</td>\n",
       "      <td>1988</td>\n",
       "      <td>58</td>\n",
       "      <td>4.382470</td>\n",
       "    </tr>\n",
       "    <tr>\n",
       "      <th>2875</th>\n",
       "      <td>ARTICLE_3004</td>\n",
       "      <td>18</td>\n",
       "      <td>HTML</td>\n",
       "      <td>en</td>\n",
       "      <td>5768</td>\n",
       "      <td>22</td>\n",
       "      <td>5.179283</td>\n",
       "    </tr>\n",
       "    <tr>\n",
       "      <th>2876</th>\n",
       "      <td>ARTICLE_3005</td>\n",
       "      <td>27</td>\n",
       "      <td>HTML</td>\n",
       "      <td>en</td>\n",
       "      <td>8086</td>\n",
       "      <td>68</td>\n",
       "      <td>5.976096</td>\n",
       "    </tr>\n",
       "    <tr>\n",
       "      <th>2877</th>\n",
       "      <td>ARTICLE_3006</td>\n",
       "      <td>58</td>\n",
       "      <td>HTML</td>\n",
       "      <td>pt</td>\n",
       "      <td>1490</td>\n",
       "      <td>67</td>\n",
       "      <td>6.772908</td>\n",
       "    </tr>\n",
       "    <tr>\n",
       "      <th>2878</th>\n",
       "      <td>ARTICLE_3007</td>\n",
       "      <td>9</td>\n",
       "      <td>HTML</td>\n",
       "      <td>en</td>\n",
       "      <td>2036</td>\n",
       "      <td>39</td>\n",
       "      <td>2.788845</td>\n",
       "    </tr>\n",
       "  </tbody>\n",
       "</table>\n",
       "<p>2879 rows × 7 columns</p>\n",
       "</div>"
      ],
      "text/plain": [
       "         articleID  count Format Language  content_len  title_len  percentage\n",
       "0     ARTICLE_0000     21   HTML       en        19831         28    3.984064\n",
       "1     ARTICLE_0001     12   HTML       en         2165         84    3.585657\n",
       "2     ARTICLE_0002      6   HTML       en        15743         44    1.992032\n",
       "3     ARTICLE_0003      3   HTML       en         8861         77    0.796813\n",
       "4     ARTICLE_0004     10   HTML       en         4065         64    2.788845\n",
       "...            ...    ...    ...      ...          ...        ...         ...\n",
       "2874  ARTICLE_3003     36   HTML       pt         1988         58    4.382470\n",
       "2875  ARTICLE_3004     18   HTML       en         5768         22    5.179283\n",
       "2876  ARTICLE_3005     27   HTML       en         8086         68    5.976096\n",
       "2877  ARTICLE_3006     58   HTML       pt         1490         67    6.772908\n",
       "2878  ARTICLE_3007      9   HTML       en         2036         39    2.788845\n",
       "\n",
       "[2879 rows x 7 columns]"
      ]
     },
     "execution_count": 87,
     "metadata": {},
     "output_type": "execute_result"
    }
   ],
   "source": [
    "article_meta"
   ]
  },
  {
   "cell_type": "code",
   "execution_count": 76,
   "metadata": {},
   "outputs": [
    {
     "data": {
      "text/plain": [
       "<Axes: >"
      ]
     },
     "execution_count": 76,
     "metadata": {},
     "output_type": "execute_result"
    },
    {
     "data": {
      "image/png": "[encoded data removed]",
      "text/plain": [
       "<Figure size 600x400 with 2 Axes>"
      ]
     },
     "metadata": {},
     "output_type": "display_data"
    }
   ],
   "source": [
    "corr = article_meta[['count', 'percentage']].corr()\n",
    "\n",
    "# Generate a mask for the upper triangle\n",
    "mask = np.triu(np.ones_like(corr, dtype=bool))\n",
    "\n",
    "# Set up the matplotlib figure\n",
    "f, ax = plt.subplots(figsize=(6, 4))\n",
    "\n",
    "# Generate a custom diverging colormap\n",
    "cmap = sns.diverging_palette(230, 20, as_cmap=True)\n",
    "\n",
    "# Draw the heatmap with the mask and correct aspect ratio\n",
    "sns.heatmap(corr, annot=True, mask=mask, cmap=cmap, vmax=1, vmin=-1, center=0,\n",
    "            square=True, linewidths=.5, cbar_kws={\"shrink\": .5})"
   ]
  },
  {
   "cell_type": "code",
   "execution_count": 77,
   "metadata": {},
   "outputs": [
    {
     "data": {
      "text/html": [
       "<div>\n",
       "<style scoped>\n",
       "    .dataframe tbody tr th:only-of-type {\n",
       "        vertical-align: middle;\n",
       "    }\n",
       "\n",
       "    .dataframe tbody tr th {\n",
       "        vertical-align: top;\n",
       "    }\n",
       "\n",
       "    .dataframe thead th {\n",
       "        text-align: right;\n",
       "    }\n",
       "</style>\n",
       "<table border=\"1\" class=\"dataframe\">\n",
       "  <thead>\n",
       "    <tr style=\"text-align: right;\">\n",
       "      <th></th>\n",
       "      <th>userID</th>\n",
       "      <th>articleID</th>\n",
       "      <th>userRegion</th>\n",
       "      <th>userCountry</th>\n",
       "      <th>is_author</th>\n",
       "    </tr>\n",
       "  </thead>\n",
       "  <tbody>\n",
       "    <tr>\n",
       "      <th>0</th>\n",
       "      <td>USER_0000</td>\n",
       "      <td>ARTICLE_0661</td>\n",
       "      <td>NY</td>\n",
       "      <td>US</td>\n",
       "      <td>1</td>\n",
       "    </tr>\n",
       "    <tr>\n",
       "      <th>1</th>\n",
       "      <td>USER_0000</td>\n",
       "      <td>ARTICLE_2316</td>\n",
       "      <td>NY</td>\n",
       "      <td>US</td>\n",
       "      <td>1</td>\n",
       "    </tr>\n",
       "    <tr>\n",
       "      <th>2</th>\n",
       "      <td>USER_0000</td>\n",
       "      <td>ARTICLE_1345</td>\n",
       "      <td>NY</td>\n",
       "      <td>US</td>\n",
       "      <td>1</td>\n",
       "    </tr>\n",
       "    <tr>\n",
       "      <th>3</th>\n",
       "      <td>USER_0000</td>\n",
       "      <td>ARTICLE_1089</td>\n",
       "      <td>NY</td>\n",
       "      <td>US</td>\n",
       "      <td>1</td>\n",
       "    </tr>\n",
       "    <tr>\n",
       "      <th>4</th>\n",
       "      <td>USER_0000</td>\n",
       "      <td>ARTICLE_1484</td>\n",
       "      <td>NY</td>\n",
       "      <td>US</td>\n",
       "      <td>1</td>\n",
       "    </tr>\n",
       "    <tr>\n",
       "      <th>...</th>\n",
       "      <td>...</td>\n",
       "      <td>...</td>\n",
       "      <td>...</td>\n",
       "      <td>...</td>\n",
       "      <td>...</td>\n",
       "    </tr>\n",
       "    <tr>\n",
       "      <th>42712</th>\n",
       "      <td>USER_1420</td>\n",
       "      <td>ARTICLE_0682</td>\n",
       "      <td>SP</td>\n",
       "      <td>BR</td>\n",
       "      <td>1</td>\n",
       "    </tr>\n",
       "    <tr>\n",
       "      <th>42713</th>\n",
       "      <td>USER_1420</td>\n",
       "      <td>ARTICLE_2179</td>\n",
       "      <td>SP</td>\n",
       "      <td>BR</td>\n",
       "      <td>1</td>\n",
       "    </tr>\n",
       "    <tr>\n",
       "      <th>42714</th>\n",
       "      <td>USER_1420</td>\n",
       "      <td>ARTICLE_1848</td>\n",
       "      <td>SP</td>\n",
       "      <td>BR</td>\n",
       "      <td>1</td>\n",
       "    </tr>\n",
       "    <tr>\n",
       "      <th>42715</th>\n",
       "      <td>USER_1420</td>\n",
       "      <td>ARTICLE_0030</td>\n",
       "      <td>SP</td>\n",
       "      <td>BR</td>\n",
       "      <td>1</td>\n",
       "    </tr>\n",
       "    <tr>\n",
       "      <th>42716</th>\n",
       "      <td>USER_1420</td>\n",
       "      <td>ARTICLE_2423</td>\n",
       "      <td>SP</td>\n",
       "      <td>BR</td>\n",
       "      <td>1</td>\n",
       "    </tr>\n",
       "  </tbody>\n",
       "</table>\n",
       "<p>42717 rows × 5 columns</p>\n",
       "</div>"
      ],
      "text/plain": [
       "          userID     articleID userRegion userCountry  is_author\n",
       "0      USER_0000  ARTICLE_0661         NY          US          1\n",
       "1      USER_0000  ARTICLE_2316         NY          US          1\n",
       "2      USER_0000  ARTICLE_1345         NY          US          1\n",
       "3      USER_0000  ARTICLE_1089         NY          US          1\n",
       "4      USER_0000  ARTICLE_1484         NY          US          1\n",
       "...          ...           ...        ...         ...        ...\n",
       "42712  USER_1420  ARTICLE_0682         SP          BR          1\n",
       "42713  USER_1420  ARTICLE_2179         SP          BR          1\n",
       "42714  USER_1420  ARTICLE_1848         SP          BR          1\n",
       "42715  USER_1420  ARTICLE_0030         SP          BR          1\n",
       "42716  USER_1420  ARTICLE_2423         SP          BR          1\n",
       "\n",
       "[42717 rows x 5 columns]"
      ]
     },
     "execution_count": 77,
     "metadata": {},
     "output_type": "execute_result"
    }
   ],
   "source": [
    "view_log_meta"
   ]
  },
  {
   "cell_type": "code",
   "execution_count": 78,
   "metadata": {},
   "outputs": [],
   "source": [
    "country_counts = view_log_meta.groupby(['articleID', 'userCountry']).size().reset_index(name='count')"
   ]
  },
  {
   "cell_type": "code",
   "execution_count": 88,
   "metadata": {},
   "outputs": [
    {
     "data": {
      "text/plain": [
       "userCountry\n",
       "BR    2830\n",
       "US    1402\n",
       "CA     116\n",
       "KR      85\n",
       "AU      81\n",
       "JP      68\n",
       "IE      12\n",
       "GB       8\n",
       "IS       7\n",
       "AR       5\n",
       "DE       5\n",
       "PT       4\n",
       "SG       4\n",
       "MY       2\n",
       "IT       2\n",
       "CO       1\n",
       "CH       1\n",
       "NL       1\n",
       "CL       1\n",
       "CN       1\n",
       "ES       1\n",
       "Name: count, dtype: int64"
      ]
     },
     "execution_count": 88,
     "metadata": {},
     "output_type": "execute_result"
    }
   ],
   "source": [
    "country_counts['userCountry'].value_counts()"
   ]
  },
  {
   "cell_type": "code",
   "execution_count": 89,
   "metadata": {},
   "outputs": [
    {
     "data": {
      "text/plain": [
       "<Axes: xlabel='userCountry', ylabel='count'>"
      ]
     },
     "execution_count": 89,
     "metadata": {},
     "output_type": "execute_result"
    },
    {
     "data": {
      "image/png": "[encoded data removed]",
      "text/plain": [
       "<Figure size 640x480 with 1 Axes>"
      ]
     },
     "metadata": {},
     "output_type": "display_data"
    }
   ],
   "source": [
    "sns.barplot(country_counts['userCountry'].value_counts())"
   ]
  },
  {
   "cell_type": "code",
   "execution_count": 80,
   "metadata": {},
   "outputs": [],
   "source": [
    "grouped = country_counts.groupby(['articleID', 'userCountry'])['count'].sum().reset_index()\n",
    "\n",
    "# Step 2: Pivot the table to get countries as columns\n",
    "pivoted = grouped.pivot(index='articleID', columns='userCountry', values='count').fillna(0)\n",
    "\n",
    "# Step 3: Calculate the total views per article\n",
    "pivoted['total_views'] = pivoted.sum(axis=1)\n",
    "\n",
    "# Step 4: Calculate the percentage of views from Brazil\n",
    "pivoted['BR_percentage'] = round((pivoted.get('BR', 0) / pivoted['total_views']) * 100, 3)\n",
    "\n",
    "# Step 5: Display results\n",
    "result = pivoted[['total_views', 'BR_percentage']].reset_index()\n",
    "result.columns = ['articleID', 'total_view', 'BR_per']"
   ]
  },
  {
   "cell_type": "code",
   "execution_count": 90,
   "metadata": {},
   "outputs": [
    {
     "data": {
      "text/html": [
       "<div>\n",
       "<style scoped>\n",
       "    .dataframe tbody tr th:only-of-type {\n",
       "        vertical-align: middle;\n",
       "    }\n",
       "\n",
       "    .dataframe tbody tr th {\n",
       "        vertical-align: top;\n",
       "    }\n",
       "\n",
       "    .dataframe thead th {\n",
       "        text-align: right;\n",
       "    }\n",
       "</style>\n",
       "<table border=\"1\" class=\"dataframe\">\n",
       "  <thead>\n",
       "    <tr style=\"text-align: right;\">\n",
       "      <th></th>\n",
       "      <th>articleID</th>\n",
       "      <th>total_view</th>\n",
       "      <th>BR_per</th>\n",
       "    </tr>\n",
       "  </thead>\n",
       "  <tbody>\n",
       "    <tr>\n",
       "      <th>0</th>\n",
       "      <td>ARTICLE_0000</td>\n",
       "      <td>21.0</td>\n",
       "      <td>100.000</td>\n",
       "    </tr>\n",
       "    <tr>\n",
       "      <th>1</th>\n",
       "      <td>ARTICLE_0001</td>\n",
       "      <td>12.0</td>\n",
       "      <td>66.667</td>\n",
       "    </tr>\n",
       "    <tr>\n",
       "      <th>2</th>\n",
       "      <td>ARTICLE_0002</td>\n",
       "      <td>6.0</td>\n",
       "      <td>100.000</td>\n",
       "    </tr>\n",
       "    <tr>\n",
       "      <th>3</th>\n",
       "      <td>ARTICLE_0003</td>\n",
       "      <td>3.0</td>\n",
       "      <td>33.333</td>\n",
       "    </tr>\n",
       "    <tr>\n",
       "      <th>4</th>\n",
       "      <td>ARTICLE_0004</td>\n",
       "      <td>10.0</td>\n",
       "      <td>70.000</td>\n",
       "    </tr>\n",
       "    <tr>\n",
       "      <th>...</th>\n",
       "      <td>...</td>\n",
       "      <td>...</td>\n",
       "      <td>...</td>\n",
       "    </tr>\n",
       "    <tr>\n",
       "      <th>2874</th>\n",
       "      <td>ARTICLE_3003</td>\n",
       "      <td>36.0</td>\n",
       "      <td>100.000</td>\n",
       "    </tr>\n",
       "    <tr>\n",
       "      <th>2875</th>\n",
       "      <td>ARTICLE_3004</td>\n",
       "      <td>18.0</td>\n",
       "      <td>94.444</td>\n",
       "    </tr>\n",
       "    <tr>\n",
       "      <th>2876</th>\n",
       "      <td>ARTICLE_3005</td>\n",
       "      <td>27.0</td>\n",
       "      <td>96.296</td>\n",
       "    </tr>\n",
       "    <tr>\n",
       "      <th>2877</th>\n",
       "      <td>ARTICLE_3006</td>\n",
       "      <td>58.0</td>\n",
       "      <td>96.552</td>\n",
       "    </tr>\n",
       "    <tr>\n",
       "      <th>2878</th>\n",
       "      <td>ARTICLE_3007</td>\n",
       "      <td>9.0</td>\n",
       "      <td>88.889</td>\n",
       "    </tr>\n",
       "  </tbody>\n",
       "</table>\n",
       "<p>2879 rows × 3 columns</p>\n",
       "</div>"
      ],
      "text/plain": [
       "         articleID  total_view   BR_per\n",
       "0     ARTICLE_0000        21.0  100.000\n",
       "1     ARTICLE_0001        12.0   66.667\n",
       "2     ARTICLE_0002         6.0  100.000\n",
       "3     ARTICLE_0003         3.0   33.333\n",
       "4     ARTICLE_0004        10.0   70.000\n",
       "...            ...         ...      ...\n",
       "2874  ARTICLE_3003        36.0  100.000\n",
       "2875  ARTICLE_3004        18.0   94.444\n",
       "2876  ARTICLE_3005        27.0   96.296\n",
       "2877  ARTICLE_3006        58.0   96.552\n",
       "2878  ARTICLE_3007         9.0   88.889\n",
       "\n",
       "[2879 rows x 3 columns]"
      ]
     },
     "execution_count": 90,
     "metadata": {},
     "output_type": "execute_result"
    }
   ],
   "source": [
    "result"
   ]
  },
  {
   "cell_type": "code",
   "execution_count": 81,
   "metadata": {},
   "outputs": [],
   "source": [
    "grouped = country_counts.groupby(['articleID', 'userCountry'])['count'].sum().reset_index()\n",
    "\n",
    "# Step 2: Pivot the table to get countries as columns\n",
    "pivoted = grouped.pivot(index='articleID', columns='userCountry', values='count').fillna(0)\n",
    "\n",
    "# Step 3: Calculate the total views per article\n",
    "pivoted['total_views'] = pivoted.sum(axis=1)\n",
    "\n",
    "# Step 4: Calculate the percentage of views from Brazil\n",
    "pivoted['US_percentage'] = round((pivoted.get('US', 0) / pivoted['total_views']) * 100, 3)\n",
    "\n",
    "# Step 5: Display results\n",
    "us_result = pivoted[['total_views', 'US_percentage']].reset_index()\n",
    "us_result.columns = ['articleID', 'total_view', 'US_per']"
   ]
  },
  {
   "cell_type": "code",
   "execution_count": 91,
   "metadata": {},
   "outputs": [
    {
     "data": {
      "text/html": [
       "<div>\n",
       "<style scoped>\n",
       "    .dataframe tbody tr th:only-of-type {\n",
       "        vertical-align: middle;\n",
       "    }\n",
       "\n",
       "    .dataframe tbody tr th {\n",
       "        vertical-align: top;\n",
       "    }\n",
       "\n",
       "    .dataframe thead th {\n",
       "        text-align: right;\n",
       "    }\n",
       "</style>\n",
       "<table border=\"1\" class=\"dataframe\">\n",
       "  <thead>\n",
       "    <tr style=\"text-align: right;\">\n",
       "      <th></th>\n",
       "      <th>articleID</th>\n",
       "      <th>total_view</th>\n",
       "      <th>US_per</th>\n",
       "    </tr>\n",
       "  </thead>\n",
       "  <tbody>\n",
       "    <tr>\n",
       "      <th>0</th>\n",
       "      <td>ARTICLE_0000</td>\n",
       "      <td>21.0</td>\n",
       "      <td>0.000</td>\n",
       "    </tr>\n",
       "    <tr>\n",
       "      <th>1</th>\n",
       "      <td>ARTICLE_0001</td>\n",
       "      <td>12.0</td>\n",
       "      <td>33.333</td>\n",
       "    </tr>\n",
       "    <tr>\n",
       "      <th>2</th>\n",
       "      <td>ARTICLE_0002</td>\n",
       "      <td>6.0</td>\n",
       "      <td>0.000</td>\n",
       "    </tr>\n",
       "    <tr>\n",
       "      <th>3</th>\n",
       "      <td>ARTICLE_0003</td>\n",
       "      <td>3.0</td>\n",
       "      <td>33.333</td>\n",
       "    </tr>\n",
       "    <tr>\n",
       "      <th>4</th>\n",
       "      <td>ARTICLE_0004</td>\n",
       "      <td>10.0</td>\n",
       "      <td>30.000</td>\n",
       "    </tr>\n",
       "    <tr>\n",
       "      <th>...</th>\n",
       "      <td>...</td>\n",
       "      <td>...</td>\n",
       "      <td>...</td>\n",
       "    </tr>\n",
       "    <tr>\n",
       "      <th>2874</th>\n",
       "      <td>ARTICLE_3003</td>\n",
       "      <td>36.0</td>\n",
       "      <td>0.000</td>\n",
       "    </tr>\n",
       "    <tr>\n",
       "      <th>2875</th>\n",
       "      <td>ARTICLE_3004</td>\n",
       "      <td>18.0</td>\n",
       "      <td>5.556</td>\n",
       "    </tr>\n",
       "    <tr>\n",
       "      <th>2876</th>\n",
       "      <td>ARTICLE_3005</td>\n",
       "      <td>27.0</td>\n",
       "      <td>3.704</td>\n",
       "    </tr>\n",
       "    <tr>\n",
       "      <th>2877</th>\n",
       "      <td>ARTICLE_3006</td>\n",
       "      <td>58.0</td>\n",
       "      <td>3.448</td>\n",
       "    </tr>\n",
       "    <tr>\n",
       "      <th>2878</th>\n",
       "      <td>ARTICLE_3007</td>\n",
       "      <td>9.0</td>\n",
       "      <td>11.111</td>\n",
       "    </tr>\n",
       "  </tbody>\n",
       "</table>\n",
       "<p>2879 rows × 3 columns</p>\n",
       "</div>"
      ],
      "text/plain": [
       "         articleID  total_view  US_per\n",
       "0     ARTICLE_0000        21.0   0.000\n",
       "1     ARTICLE_0001        12.0  33.333\n",
       "2     ARTICLE_0002         6.0   0.000\n",
       "3     ARTICLE_0003         3.0  33.333\n",
       "4     ARTICLE_0004        10.0  30.000\n",
       "...            ...         ...     ...\n",
       "2874  ARTICLE_3003        36.0   0.000\n",
       "2875  ARTICLE_3004        18.0   5.556\n",
       "2876  ARTICLE_3005        27.0   3.704\n",
       "2877  ARTICLE_3006        58.0   3.448\n",
       "2878  ARTICLE_3007         9.0  11.111\n",
       "\n",
       "[2879 rows x 3 columns]"
      ]
     },
     "execution_count": 91,
     "metadata": {},
     "output_type": "execute_result"
    }
   ],
   "source": [
    "us_result"
   ]
  },
  {
   "cell_type": "code",
   "execution_count": 82,
   "metadata": {},
   "outputs": [
    {
     "data": {
      "text/plain": [
       "<Axes: xlabel='US_per', ylabel='Count'>"
      ]
     },
     "execution_count": 82,
     "metadata": {},
     "output_type": "execute_result"
    },
    {
     "data": {
      "image/png": "[encoded data removed]",
      "text/plain": [
       "<Figure size 640x480 with 1 Axes>"
      ]
     },
     "metadata": {},
     "output_type": "display_data"
    }
   ],
   "source": [
    "sns.histplot(us_result['US_per'], kde=True)"
   ]
  },
  {
   "cell_type": "code",
   "execution_count": 83,
   "metadata": {},
   "outputs": [
    {
     "data": {
      "text/plain": [
       "<Axes: xlabel='BR_per', ylabel='Count'>"
      ]
     },
     "execution_count": 83,
     "metadata": {},
     "output_type": "execute_result"
    },
    {
     "data": {
      "image/png": "[encoded data removed]",
      "text/plain": [
       "<Figure size 640x480 with 1 Axes>"
      ]
     },
     "metadata": {},
     "output_type": "display_data"
    }
   ],
   "source": [
    "sns.histplot(result['BR_per'], kde=True)"
   ]
  },
  {
   "cell_type": "code",
   "execution_count": 84,
   "metadata": {},
   "outputs": [
    {
     "data": {
      "text/plain": [
       "<Axes: xlabel='userCountry', ylabel='count'>"
      ]
     },
     "execution_count": 84,
     "metadata": {},
     "output_type": "execute_result"
    },
    {
     "data": {
      "image/png": "[encoded data removed]",
      "text/plain": [
       "<Figure size 640x480 with 1 Axes>"
      ]
     },
     "metadata": {},
     "output_type": "display_data"
    }
   ],
   "source": [
    "sns.barplot(view_log['userCountry'].value_counts())"
   ]
  },
  {
   "cell_type": "code",
   "execution_count": 85,
   "metadata": {},
   "outputs": [
    {
     "data": {
      "text/html": [
       "<div>\n",
       "<style scoped>\n",
       "    .dataframe tbody tr th:only-of-type {\n",
       "        vertical-align: middle;\n",
       "    }\n",
       "\n",
       "    .dataframe tbody tr th {\n",
       "        vertical-align: top;\n",
       "    }\n",
       "\n",
       "    .dataframe thead th {\n",
       "        text-align: right;\n",
       "    }\n",
       "</style>\n",
       "<table border=\"1\" class=\"dataframe\">\n",
       "  <thead>\n",
       "    <tr style=\"text-align: right;\">\n",
       "      <th></th>\n",
       "      <th>userID</th>\n",
       "      <th>articleID</th>\n",
       "      <th>userRegion</th>\n",
       "      <th>userCountry</th>\n",
       "    </tr>\n",
       "  </thead>\n",
       "  <tbody>\n",
       "    <tr>\n",
       "      <th>count</th>\n",
       "      <td>42717</td>\n",
       "      <td>42717</td>\n",
       "      <td>42717</td>\n",
       "      <td>42717</td>\n",
       "    </tr>\n",
       "    <tr>\n",
       "      <th>unique</th>\n",
       "      <td>1415</td>\n",
       "      <td>2879</td>\n",
       "      <td>56</td>\n",
       "      <td>21</td>\n",
       "    </tr>\n",
       "    <tr>\n",
       "      <th>top</th>\n",
       "      <td>USER_0222</td>\n",
       "      <td>ARTICLE_2868</td>\n",
       "      <td>SP</td>\n",
       "      <td>BR</td>\n",
       "    </tr>\n",
       "    <tr>\n",
       "      <th>freq</th>\n",
       "      <td>974</td>\n",
       "      <td>291</td>\n",
       "      <td>30127</td>\n",
       "      <td>38566</td>\n",
       "    </tr>\n",
       "  </tbody>\n",
       "</table>\n",
       "</div>"
      ],
      "text/plain": [
       "           userID     articleID userRegion userCountry\n",
       "count       42717         42717      42717       42717\n",
       "unique       1415          2879         56          21\n",
       "top     USER_0222  ARTICLE_2868         SP          BR\n",
       "freq          974           291      30127       38566"
      ]
     },
     "execution_count": 85,
     "metadata": {},
     "output_type": "execute_result"
    }
   ],
   "source": [
    "view_log.describe()"
   ]
  },
  {
   "cell_type": "code",
   "execution_count": 95,
   "metadata": {},
   "outputs": [],
   "source": [
    "emb = np.loadtxt(\"../cached/c_embedding\")"
   ]
  },
  {
   "cell_type": "code",
   "execution_count": 98,
   "metadata": {},
   "outputs": [],
   "source": [
    "np.savetxt('../cached/c_embedding.tsv', emb, delimiter='\\t')"
   ]
  }
 ],
 "metadata": {
  "kernelspec": {
   "display_name": "dacon",
   "language": "python",
   "name": "python3"
  },
  "language_info": {
   "codemirror_mode": {
    "name": "ipython",
    "version": 3
   },
   "file_extension": ".py",
   "mimetype": "text/x-python",
   "name": "python",
   "nbconvert_exporter": "python",
   "pygments_lexer": "ipython3",
   "version": "3.11.9"
  }
 },
 "nbformat": 4,
 "nbformat_minor": 2
}
