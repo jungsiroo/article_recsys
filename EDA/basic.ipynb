{
 "cells": [
  {
   "cell_type": "code",
   "execution_count": 70,
   "metadata": {},
   "outputs": [],
   "source": [
    "import pandas as pd\n",
    "import numpy as np\n",
    "import sys\n",
    "sys.path.append('../')\n",
    "from modules.dataloader import load_data\n",
    "from modules.utils import display_line, seed_fix\n",
    "import matplotlib.pyplot as plt\n",
    "import seaborn as sns"
   ]
  },
  {
   "cell_type": "code",
   "execution_count": 3,
   "metadata": {},
   "outputs": [],
   "source": [
    "view_log_train, article_info, submission = load_data()"
   ]
  },
  {
   "cell_type": "code",
   "execution_count": 5,
   "metadata": {},
   "outputs": [
    {
     "data": {
      "text/plain": [
       "userID         0\n",
       "articleID      0\n",
       "userRegion     0\n",
       "userCountry    0\n",
       "dtype: int64"
      ]
     },
     "execution_count": 5,
     "metadata": {},
     "output_type": "execute_result"
    }
   ],
   "source": [
    "view_log_train.isnull().sum()"
   ]
  },
  {
   "cell_type": "code",
   "execution_count": 8,
   "metadata": {},
   "outputs": [
    {
     "data": {
      "text/plain": [
       "(42717, 4)"
      ]
     },
     "execution_count": 8,
     "metadata": {},
     "output_type": "execute_result"
    }
   ],
   "source": [
    "view_log_train.shape"
   ]
  },
  {
   "cell_type": "code",
   "execution_count": 9,
   "metadata": {},
   "outputs": [
    {
     "data": {
      "text/plain": [
       "1415"
      ]
     },
     "execution_count": 9,
     "metadata": {},
     "output_type": "execute_result"
    }
   ],
   "source": [
    "view_log_train['userID'].nunique()"
   ]
  },
  {
   "cell_type": "code",
   "execution_count": 11,
   "metadata": {},
   "outputs": [
    {
     "data": {
      "text/plain": [
       "array(['NY', 'CA', 'SP', 'MG', 'RJ', 'PA', 'Unknown', 'NJ', 'TX', 'IL',\n",
       "       'GA', 'VA', 'AZ', 'ES', 'GO', 'SC', 'CE', 'PI', 'PR', 'MI', 'DC',\n",
       "       'BE', 'HE', 'BA', 'BW', 'MA', 'OH', 'FL', 'RS', 'BOL', 'DF', 'MN',\n",
       "       'LA', 'IN', 'NSW', 'QLD', 'AB', 'PE', 'RM', 'NH', 'BC', 'ENG',\n",
       "       'ZH', 'CO', 'KS', 'NE', 'WI', 'CT', 'MO', 'CL', 'MS', 'MT', 'WA',\n",
       "       'NV', 'ON', 'NC'], dtype=object)"
      ]
     },
     "execution_count": 11,
     "metadata": {},
     "output_type": "execute_result"
    }
   ],
   "source": [
    "view_log_train['userRegion'].unique()"
   ]
  },
  {
   "cell_type": "code",
   "execution_count": 12,
   "metadata": {},
   "outputs": [
    {
     "data": {
      "text/plain": [
       "array(['US', 'BR', 'JP', 'KR', 'CN', 'DE', 'PT', 'CO', 'AU', 'MY', 'SG',\n",
       "       'CA', 'IE', 'IT', 'AR', 'CL', 'NL', 'GB', 'CH', 'ES', 'IS'],\n",
       "      dtype=object)"
      ]
     },
     "execution_count": 12,
     "metadata": {},
     "output_type": "execute_result"
    }
   ],
   "source": [
    "view_log_train['userCountry'].unique()"
   ]
  },
  {
   "cell_type": "code",
   "execution_count": 6,
   "metadata": {},
   "outputs": [
    {
     "data": {
      "text/html": [
       "<div>\n",
       "<style scoped>\n",
       "    .dataframe tbody tr th:only-of-type {\n",
       "        vertical-align: middle;\n",
       "    }\n",
       "\n",
       "    .dataframe tbody tr th {\n",
       "        vertical-align: top;\n",
       "    }\n",
       "\n",
       "    .dataframe thead th {\n",
       "        text-align: right;\n",
       "    }\n",
       "</style>\n",
       "<table border=\"1\" class=\"dataframe\">\n",
       "  <thead>\n",
       "    <tr style=\"text-align: right;\">\n",
       "      <th></th>\n",
       "      <th>2083</th>\n",
       "    </tr>\n",
       "  </thead>\n",
       "  <tbody>\n",
       "    <tr>\n",
       "      <th>articleID</th>\n",
       "      <td>ARTICLE_2083</td>\n",
       "    </tr>\n",
       "    <tr>\n",
       "      <th>Title</th>\n",
       "      <td>Coca-cola traz ao Brasil sabores cereja e baun...</td>\n",
       "    </tr>\n",
       "    <tr>\n",
       "      <th>Content</th>\n",
       "      <td>Antes reclusas a países como os EUA e Reino Un...</td>\n",
       "    </tr>\n",
       "    <tr>\n",
       "      <th>Format</th>\n",
       "      <td>HTML</td>\n",
       "    </tr>\n",
       "    <tr>\n",
       "      <th>Language</th>\n",
       "      <td>pt</td>\n",
       "    </tr>\n",
       "    <tr>\n",
       "      <th>userID</th>\n",
       "      <td>USER_1005</td>\n",
       "    </tr>\n",
       "    <tr>\n",
       "      <th>userCountry</th>\n",
       "      <td>NaN</td>\n",
       "    </tr>\n",
       "    <tr>\n",
       "      <th>userRegion</th>\n",
       "      <td>NaN</td>\n",
       "    </tr>\n",
       "  </tbody>\n",
       "</table>\n",
       "</div>"
      ],
      "text/plain": [
       "                                                          2083\n",
       "articleID                                         ARTICLE_2083\n",
       "Title        Coca-cola traz ao Brasil sabores cereja e baun...\n",
       "Content      Antes reclusas a países como os EUA e Reino Un...\n",
       "Format                                                    HTML\n",
       "Language                                                    pt\n",
       "userID                                               USER_1005\n",
       "userCountry                                                NaN\n",
       "userRegion                                                 NaN"
      ]
     },
     "execution_count": 6,
     "metadata": {},
     "output_type": "execute_result"
    }
   ],
   "source": [
    "article_info.sample().T"
   ]
  },
  {
   "cell_type": "code",
   "execution_count": 13,
   "metadata": {},
   "outputs": [
    {
     "data": {
      "text/plain": [
       "(3008, 8)"
      ]
     },
     "execution_count": 13,
     "metadata": {},
     "output_type": "execute_result"
    }
   ],
   "source": [
    "article_info.shape"
   ]
  },
  {
   "cell_type": "code",
   "execution_count": 7,
   "metadata": {},
   "outputs": [
    {
     "data": {
      "text/plain": [
       "articleID         0\n",
       "Title             0\n",
       "Content           0\n",
       "Format            0\n",
       "Language          0\n",
       "userID            0\n",
       "userCountry    2349\n",
       "userRegion     2351\n",
       "dtype: int64"
      ]
     },
     "execution_count": 7,
     "metadata": {},
     "output_type": "execute_result"
    }
   ],
   "source": [
    "article_info.isnull().sum()"
   ]
  },
  {
   "cell_type": "code",
   "execution_count": 14,
   "metadata": {},
   "outputs": [],
   "source": [
    "user_article_matrix = view_log_train.groupby(['userID', 'articleID']).size().unstack(fill_value=0)"
   ]
  },
  {
   "cell_type": "code",
   "execution_count": 21,
   "metadata": {},
   "outputs": [
    {
     "data": {
      "text/html": [
       "<div>\n",
       "<style scoped>\n",
       "    .dataframe tbody tr th:only-of-type {\n",
       "        vertical-align: middle;\n",
       "    }\n",
       "\n",
       "    .dataframe tbody tr th {\n",
       "        vertical-align: top;\n",
       "    }\n",
       "\n",
       "    .dataframe thead th {\n",
       "        text-align: right;\n",
       "    }\n",
       "</style>\n",
       "<table border=\"1\" class=\"dataframe\">\n",
       "  <thead>\n",
       "    <tr style=\"text-align: right;\">\n",
       "      <th>articleID</th>\n",
       "      <th>ARTICLE_0000</th>\n",
       "      <th>ARTICLE_0001</th>\n",
       "      <th>ARTICLE_0002</th>\n",
       "      <th>ARTICLE_0003</th>\n",
       "      <th>ARTICLE_0004</th>\n",
       "      <th>ARTICLE_0005</th>\n",
       "      <th>ARTICLE_0006</th>\n",
       "      <th>ARTICLE_0007</th>\n",
       "      <th>ARTICLE_0008</th>\n",
       "      <th>ARTICLE_0009</th>\n",
       "      <th>...</th>\n",
       "      <th>ARTICLE_2998</th>\n",
       "      <th>ARTICLE_2999</th>\n",
       "      <th>ARTICLE_3000</th>\n",
       "      <th>ARTICLE_3001</th>\n",
       "      <th>ARTICLE_3002</th>\n",
       "      <th>ARTICLE_3003</th>\n",
       "      <th>ARTICLE_3004</th>\n",
       "      <th>ARTICLE_3005</th>\n",
       "      <th>ARTICLE_3006</th>\n",
       "      <th>ARTICLE_3007</th>\n",
       "    </tr>\n",
       "    <tr>\n",
       "      <th>userID</th>\n",
       "      <th></th>\n",
       "      <th></th>\n",
       "      <th></th>\n",
       "      <th></th>\n",
       "      <th></th>\n",
       "      <th></th>\n",
       "      <th></th>\n",
       "      <th></th>\n",
       "      <th></th>\n",
       "      <th></th>\n",
       "      <th></th>\n",
       "      <th></th>\n",
       "      <th></th>\n",
       "      <th></th>\n",
       "      <th></th>\n",
       "      <th></th>\n",
       "      <th></th>\n",
       "      <th></th>\n",
       "      <th></th>\n",
       "      <th></th>\n",
       "      <th></th>\n",
       "    </tr>\n",
       "  </thead>\n",
       "  <tbody>\n",
       "    <tr>\n",
       "      <th>USER_1163</th>\n",
       "      <td>0</td>\n",
       "      <td>0</td>\n",
       "      <td>0</td>\n",
       "      <td>0</td>\n",
       "      <td>1</td>\n",
       "      <td>0</td>\n",
       "      <td>0</td>\n",
       "      <td>0</td>\n",
       "      <td>0</td>\n",
       "      <td>0</td>\n",
       "      <td>...</td>\n",
       "      <td>0</td>\n",
       "      <td>0</td>\n",
       "      <td>0</td>\n",
       "      <td>0</td>\n",
       "      <td>0</td>\n",
       "      <td>0</td>\n",
       "      <td>0</td>\n",
       "      <td>0</td>\n",
       "      <td>0</td>\n",
       "      <td>0</td>\n",
       "    </tr>\n",
       "  </tbody>\n",
       "</table>\n",
       "<p>1 rows × 2879 columns</p>\n",
       "</div>"
      ],
      "text/plain": [
       "articleID  ARTICLE_0000  ARTICLE_0001  ARTICLE_0002  ARTICLE_0003  \\\n",
       "userID                                                              \n",
       "USER_1163             0             0             0             0   \n",
       "\n",
       "articleID  ARTICLE_0004  ARTICLE_0005  ARTICLE_0006  ARTICLE_0007  \\\n",
       "userID                                                              \n",
       "USER_1163             1             0             0             0   \n",
       "\n",
       "articleID  ARTICLE_0008  ARTICLE_0009  ...  ARTICLE_2998  ARTICLE_2999  \\\n",
       "userID                                 ...                               \n",
       "USER_1163             0             0  ...             0             0   \n",
       "\n",
       "articleID  ARTICLE_3000  ARTICLE_3001  ARTICLE_3002  ARTICLE_3003  \\\n",
       "userID                                                              \n",
       "USER_1163             0             0             0             0   \n",
       "\n",
       "articleID  ARTICLE_3004  ARTICLE_3005  ARTICLE_3006  ARTICLE_3007  \n",
       "userID                                                             \n",
       "USER_1163             0             0             0             0  \n",
       "\n",
       "[1 rows x 2879 columns]"
      ]
     },
     "execution_count": 21,
     "metadata": {},
     "output_type": "execute_result"
    }
   ],
   "source": [
    "user_article_matrix.sample()"
   ]
  },
  {
   "cell_type": "code",
   "execution_count": 51,
   "metadata": {},
   "outputs": [],
   "source": [
    "dup = view_log_train.groupby(['userID', 'articleID']).size().reset_index(name='count')"
   ]
  },
  {
   "cell_type": "code",
   "execution_count": 83,
   "metadata": {},
   "outputs": [],
   "source": [
    "dup = dup[dup['count'] > 1]"
   ]
  },
  {
   "cell_type": "code",
   "execution_count": 85,
   "metadata": {},
   "outputs": [
    {
     "data": {
      "text/html": [
       "<div>\n",
       "<style scoped>\n",
       "    .dataframe tbody tr th:only-of-type {\n",
       "        vertical-align: middle;\n",
       "    }\n",
       "\n",
       "    .dataframe tbody tr th {\n",
       "        vertical-align: top;\n",
       "    }\n",
       "\n",
       "    .dataframe thead th {\n",
       "        text-align: right;\n",
       "    }\n",
       "</style>\n",
       "<table border=\"1\" class=\"dataframe\">\n",
       "  <thead>\n",
       "    <tr style=\"text-align: right;\">\n",
       "      <th></th>\n",
       "      <th>userID</th>\n",
       "      <th>articleID</th>\n",
       "      <th>count</th>\n",
       "    </tr>\n",
       "  </thead>\n",
       "  <tbody>\n",
       "    <tr>\n",
       "      <th>1</th>\n",
       "      <td>USER_0000</td>\n",
       "      <td>ARTICLE_0411</td>\n",
       "      <td>3</td>\n",
       "    </tr>\n",
       "    <tr>\n",
       "      <th>6</th>\n",
       "      <td>USER_0000</td>\n",
       "      <td>ARTICLE_1033</td>\n",
       "      <td>2</td>\n",
       "    </tr>\n",
       "    <tr>\n",
       "      <th>10</th>\n",
       "      <td>USER_0000</td>\n",
       "      <td>ARTICLE_1260</td>\n",
       "      <td>2</td>\n",
       "    </tr>\n",
       "    <tr>\n",
       "      <th>11</th>\n",
       "      <td>USER_0000</td>\n",
       "      <td>ARTICLE_1345</td>\n",
       "      <td>2</td>\n",
       "    </tr>\n",
       "    <tr>\n",
       "      <th>17</th>\n",
       "      <td>USER_0000</td>\n",
       "      <td>ARTICLE_2255</td>\n",
       "      <td>4</td>\n",
       "    </tr>\n",
       "    <tr>\n",
       "      <th>...</th>\n",
       "      <td>...</td>\n",
       "      <td>...</td>\n",
       "      <td>...</td>\n",
       "    </tr>\n",
       "    <tr>\n",
       "      <th>31643</th>\n",
       "      <td>USER_1420</td>\n",
       "      <td>ARTICLE_1732</td>\n",
       "      <td>3</td>\n",
       "    </tr>\n",
       "    <tr>\n",
       "      <th>31644</th>\n",
       "      <td>USER_1420</td>\n",
       "      <td>ARTICLE_1848</td>\n",
       "      <td>3</td>\n",
       "    </tr>\n",
       "    <tr>\n",
       "      <th>31645</th>\n",
       "      <td>USER_1420</td>\n",
       "      <td>ARTICLE_1901</td>\n",
       "      <td>2</td>\n",
       "    </tr>\n",
       "    <tr>\n",
       "      <th>31652</th>\n",
       "      <td>USER_1420</td>\n",
       "      <td>ARTICLE_2622</td>\n",
       "      <td>3</td>\n",
       "    </tr>\n",
       "    <tr>\n",
       "      <th>31654</th>\n",
       "      <td>USER_1420</td>\n",
       "      <td>ARTICLE_2723</td>\n",
       "      <td>2</td>\n",
       "    </tr>\n",
       "  </tbody>\n",
       "</table>\n",
       "<p>6005 rows × 3 columns</p>\n",
       "</div>"
      ],
      "text/plain": [
       "          userID     articleID  count\n",
       "1      USER_0000  ARTICLE_0411      3\n",
       "6      USER_0000  ARTICLE_1033      2\n",
       "10     USER_0000  ARTICLE_1260      2\n",
       "11     USER_0000  ARTICLE_1345      2\n",
       "17     USER_0000  ARTICLE_2255      4\n",
       "...          ...           ...    ...\n",
       "31643  USER_1420  ARTICLE_1732      3\n",
       "31644  USER_1420  ARTICLE_1848      3\n",
       "31645  USER_1420  ARTICLE_1901      2\n",
       "31652  USER_1420  ARTICLE_2622      3\n",
       "31654  USER_1420  ARTICLE_2723      2\n",
       "\n",
       "[6005 rows x 3 columns]"
      ]
     },
     "execution_count": 85,
     "metadata": {},
     "output_type": "execute_result"
    }
   ],
   "source": [
    "dup"
   ]
  },
  {
   "cell_type": "code",
   "execution_count": 84,
   "metadata": {},
   "outputs": [],
   "source": [
    "top_dup = dup.sort_values('count', ascending=False).head(10).reset_index(drop=True)"
   ]
  },
  {
   "cell_type": "code",
   "execution_count": 80,
   "metadata": {},
   "outputs": [
    {
     "data": {
      "text/html": [
       "<div>\n",
       "<style scoped>\n",
       "    .dataframe tbody tr th:only-of-type {\n",
       "        vertical-align: middle;\n",
       "    }\n",
       "\n",
       "    .dataframe tbody tr th {\n",
       "        vertical-align: top;\n",
       "    }\n",
       "\n",
       "    .dataframe thead th {\n",
       "        text-align: right;\n",
       "    }\n",
       "</style>\n",
       "<table border=\"1\" class=\"dataframe\">\n",
       "  <thead>\n",
       "    <tr style=\"text-align: right;\">\n",
       "      <th></th>\n",
       "      <th>userID</th>\n",
       "      <th>articleID</th>\n",
       "      <th>count</th>\n",
       "    </tr>\n",
       "  </thead>\n",
       "  <tbody>\n",
       "    <tr>\n",
       "      <th>0</th>\n",
       "      <td>USER_0401</td>\n",
       "      <td>ARTICLE_0241</td>\n",
       "      <td>37</td>\n",
       "    </tr>\n",
       "    <tr>\n",
       "      <th>1</th>\n",
       "      <td>USER_0535</td>\n",
       "      <td>ARTICLE_1159</td>\n",
       "      <td>35</td>\n",
       "    </tr>\n",
       "    <tr>\n",
       "      <th>2</th>\n",
       "      <td>USER_1419</td>\n",
       "      <td>ARTICLE_2782</td>\n",
       "      <td>34</td>\n",
       "    </tr>\n",
       "    <tr>\n",
       "      <th>3</th>\n",
       "      <td>USER_0158</td>\n",
       "      <td>ARTICLE_2928</td>\n",
       "      <td>32</td>\n",
       "    </tr>\n",
       "    <tr>\n",
       "      <th>4</th>\n",
       "      <td>USER_0589</td>\n",
       "      <td>ARTICLE_2126</td>\n",
       "      <td>31</td>\n",
       "    </tr>\n",
       "    <tr>\n",
       "      <th>5</th>\n",
       "      <td>USER_1204</td>\n",
       "      <td>ARTICLE_1945</td>\n",
       "      <td>27</td>\n",
       "    </tr>\n",
       "    <tr>\n",
       "      <th>6</th>\n",
       "      <td>USER_1395</td>\n",
       "      <td>ARTICLE_2698</td>\n",
       "      <td>27</td>\n",
       "    </tr>\n",
       "    <tr>\n",
       "      <th>7</th>\n",
       "      <td>USER_0220</td>\n",
       "      <td>ARTICLE_2223</td>\n",
       "      <td>25</td>\n",
       "    </tr>\n",
       "    <tr>\n",
       "      <th>8</th>\n",
       "      <td>USER_1194</td>\n",
       "      <td>ARTICLE_2309</td>\n",
       "      <td>24</td>\n",
       "    </tr>\n",
       "    <tr>\n",
       "      <th>9</th>\n",
       "      <td>USER_1144</td>\n",
       "      <td>ARTICLE_2570</td>\n",
       "      <td>22</td>\n",
       "    </tr>\n",
       "  </tbody>\n",
       "</table>\n",
       "</div>"
      ],
      "text/plain": [
       "      userID     articleID  count\n",
       "0  USER_0401  ARTICLE_0241     37\n",
       "1  USER_0535  ARTICLE_1159     35\n",
       "2  USER_1419  ARTICLE_2782     34\n",
       "3  USER_0158  ARTICLE_2928     32\n",
       "4  USER_0589  ARTICLE_2126     31\n",
       "5  USER_1204  ARTICLE_1945     27\n",
       "6  USER_1395  ARTICLE_2698     27\n",
       "7  USER_0220  ARTICLE_2223     25\n",
       "8  USER_1194  ARTICLE_2309     24\n",
       "9  USER_1144  ARTICLE_2570     22"
      ]
     },
     "execution_count": 80,
     "metadata": {},
     "output_type": "execute_result"
    }
   ],
   "source": [
    "top_dup"
   ]
  },
  {
   "cell_type": "code",
   "execution_count": 88,
   "metadata": {},
   "outputs": [
    {
     "data": {
      "image/png": "[encoded data removed]",
      "text/plain": [
       "<Figure size 1000x600 with 1 Axes>"
      ]
     },
     "metadata": {},
     "output_type": "display_data"
    }
   ],
   "source": [
    "plt.figure(figsize=(10, 6))\n",
    "barplot = sns.barplot(top_dup['count'], dodge=False)\n",
    "\n",
    "# 각 막대 위에 값 표시\n",
    "for p in barplot.patches:\n",
    "    barplot.annotate(format(p.get_height(), '.1f'), \n",
    "                     (p.get_x() + p.get_width() / 2., p.get_height()), \n",
    "                     ha = 'center', va = 'center', \n",
    "                     xytext = (0, 9), \n",
    "                     textcoords = 'offset points')"
   ]
  },
  {
   "cell_type": "code",
   "execution_count": 54,
   "metadata": {},
   "outputs": [
    {
     "data": {
      "text/plain": [
       "userID\n",
       "USER_0000    25\n",
       "USER_0001    10\n",
       "USER_0002     8\n",
       "USER_0003     4\n",
       "USER_0004    14\n",
       "             ..\n",
       "USER_1416     2\n",
       "USER_1417    26\n",
       "USER_1418    10\n",
       "USER_1419    14\n",
       "USER_1420    35\n",
       "Length: 1415, dtype: int64"
      ]
     },
     "execution_count": 54,
     "metadata": {},
     "output_type": "execute_result"
    }
   ],
   "source": [
    "dup.groupby('userID').size()"
   ]
  },
  {
   "cell_type": "code",
   "execution_count": 89,
   "metadata": {},
   "outputs": [
    {
     "data": {
      "text/html": [
       "<div>\n",
       "<style scoped>\n",
       "    .dataframe tbody tr th:only-of-type {\n",
       "        vertical-align: middle;\n",
       "    }\n",
       "\n",
       "    .dataframe tbody tr th {\n",
       "        vertical-align: top;\n",
       "    }\n",
       "\n",
       "    .dataframe thead th {\n",
       "        text-align: right;\n",
       "    }\n",
       "</style>\n",
       "<table border=\"1\" class=\"dataframe\">\n",
       "  <thead>\n",
       "    <tr style=\"text-align: right;\">\n",
       "      <th></th>\n",
       "      <th>114</th>\n",
       "    </tr>\n",
       "  </thead>\n",
       "  <tbody>\n",
       "    <tr>\n",
       "      <th>articleID</th>\n",
       "      <td>ARTICLE_0114</td>\n",
       "    </tr>\n",
       "    <tr>\n",
       "      <th>Title</th>\n",
       "      <td>Bitcoin For A Tesla Model 3...Yes That Happened</td>\n",
       "    </tr>\n",
       "    <tr>\n",
       "      <th>Content</th>\n",
       "      <td>Well, it certainly has been a banner week for ...</td>\n",
       "    </tr>\n",
       "    <tr>\n",
       "      <th>Format</th>\n",
       "      <td>HTML</td>\n",
       "    </tr>\n",
       "    <tr>\n",
       "      <th>Language</th>\n",
       "      <td>en</td>\n",
       "    </tr>\n",
       "    <tr>\n",
       "      <th>userID</th>\n",
       "      <td>USER_0964</td>\n",
       "    </tr>\n",
       "    <tr>\n",
       "      <th>userCountry</th>\n",
       "      <td>NaN</td>\n",
       "    </tr>\n",
       "    <tr>\n",
       "      <th>userRegion</th>\n",
       "      <td>NaN</td>\n",
       "    </tr>\n",
       "  </tbody>\n",
       "</table>\n",
       "</div>"
      ],
      "text/plain": [
       "                                                           114\n",
       "articleID                                         ARTICLE_0114\n",
       "Title          Bitcoin For A Tesla Model 3...Yes That Happened\n",
       "Content      Well, it certainly has been a banner week for ...\n",
       "Format                                                    HTML\n",
       "Language                                                    en\n",
       "userID                                               USER_0964\n",
       "userCountry                                                NaN\n",
       "userRegion                                                 NaN"
      ]
     },
     "execution_count": 89,
     "metadata": {},
     "output_type": "execute_result"
    }
   ],
   "source": [
    "article_info.sample().T"
   ]
  },
  {
   "cell_type": "code",
   "execution_count": 90,
   "metadata": {},
   "outputs": [
    {
     "data": {
      "text/plain": [
       "array(['HTML', 'VIDEO', 'RICH'], dtype=object)"
      ]
     },
     "execution_count": 90,
     "metadata": {},
     "output_type": "execute_result"
    }
   ],
   "source": [
    "article_info['Format'].unique()"
   ]
  },
  {
   "cell_type": "code",
   "execution_count": 91,
   "metadata": {},
   "outputs": [
    {
     "data": {
      "text/html": [
       "<div>\n",
       "<style scoped>\n",
       "    .dataframe tbody tr th:only-of-type {\n",
       "        vertical-align: middle;\n",
       "    }\n",
       "\n",
       "    .dataframe tbody tr th {\n",
       "        vertical-align: top;\n",
       "    }\n",
       "\n",
       "    .dataframe thead th {\n",
       "        text-align: right;\n",
       "    }\n",
       "</style>\n",
       "<table border=\"1\" class=\"dataframe\">\n",
       "  <thead>\n",
       "    <tr style=\"text-align: right;\">\n",
       "      <th></th>\n",
       "      <th>531</th>\n",
       "    </tr>\n",
       "  </thead>\n",
       "  <tbody>\n",
       "    <tr>\n",
       "      <th>articleID</th>\n",
       "      <td>ARTICLE_0531</td>\n",
       "    </tr>\n",
       "    <tr>\n",
       "      <th>Title</th>\n",
       "      <td>BrasilART - Efeito Paralax e Câmera Multiplano...</td>\n",
       "    </tr>\n",
       "    <tr>\n",
       "      <th>Content</th>\n",
       "      <td>Neste vídeo, Walt Disney explica o \"Efeito Par...</td>\n",
       "    </tr>\n",
       "    <tr>\n",
       "      <th>Format</th>\n",
       "      <td>VIDEO</td>\n",
       "    </tr>\n",
       "    <tr>\n",
       "      <th>Language</th>\n",
       "      <td>pt</td>\n",
       "    </tr>\n",
       "    <tr>\n",
       "      <th>userID</th>\n",
       "      <td>USER_0264</td>\n",
       "    </tr>\n",
       "    <tr>\n",
       "      <th>userCountry</th>\n",
       "      <td>NaN</td>\n",
       "    </tr>\n",
       "    <tr>\n",
       "      <th>userRegion</th>\n",
       "      <td>NaN</td>\n",
       "    </tr>\n",
       "  </tbody>\n",
       "</table>\n",
       "</div>"
      ],
      "text/plain": [
       "                                                           531\n",
       "articleID                                         ARTICLE_0531\n",
       "Title        BrasilART - Efeito Paralax e Câmera Multiplano...\n",
       "Content      Neste vídeo, Walt Disney explica o \"Efeito Par...\n",
       "Format                                                   VIDEO\n",
       "Language                                                    pt\n",
       "userID                                               USER_0264\n",
       "userCountry                                                NaN\n",
       "userRegion                                                 NaN"
      ]
     },
     "execution_count": 91,
     "metadata": {},
     "output_type": "execute_result"
    }
   ],
   "source": [
    "article_info[article_info['Format'] == 'VIDEO'].sample().T"
   ]
  }
 ],
 "metadata": {
  "kernelspec": {
   "display_name": "dacon",
   "language": "python",
   "name": "python3"
  },
  "language_info": {
   "codemirror_mode": {
    "name": "ipython",
    "version": 3
   },
   "file_extension": ".py",
   "mimetype": "text/x-python",
   "name": "python",
   "nbconvert_exporter": "python",
   "pygments_lexer": "ipython3",
   "version": "3.11.9"
  }
 },
 "nbformat": 4,
 "nbformat_minor": 2
}
