{
 "cells": [
  {
   "cell_type": "code",
   "execution_count": 10,
   "metadata": {},
   "outputs": [
    {
     "name": "stderr",
     "output_type": "stream",
     "text": [
      "/home/elicer/.anaconda3/envs/dacon/lib/python3.11/site-packages/huggingface_hub/file_download.py:1132: FutureWarning: `resume_download` is deprecated and will be removed in version 1.0.0. Downloads always resume when possible. If you want to force a new download, use `force_download=True`.\n",
      "  warnings.warn(\n"
     ]
    }
   ],
   "source": [
    "from sentence_transformers import SentenceTransformer, util\n",
    "model = SentenceTransformer('sentence-transformers/paraphrase-multilingual-MiniLM-L12-v2')"
   ]
  },
  {
   "cell_type": "code",
   "execution_count": 8,
   "metadata": {},
   "outputs": [],
   "source": [
    "import pandas as pd\n",
    "article = pd.read_csv('../data/article_info.csv')\n",
    "\n",
    "titles = article['Title'].tolist()\n",
    "t_embeddings = model.encode(titles)\n",
    "\n",
    "contents = article['Content'].tolist()\n",
    "c_embeddings = model.encode(contents)"
   ]
  },
  {
   "cell_type": "code",
   "execution_count": 11,
   "metadata": {},
   "outputs": [],
   "source": [
    "t_sim = util.cos_sim(t_embeddings, t_embeddings)\n",
    "c_sim = util.cos_sim(c_embeddings, c_embeddings)"
   ]
  },
  {
   "cell_type": "code",
   "execution_count": 29,
   "metadata": {},
   "outputs": [],
   "source": [
    "import torch\n",
    "t_sim_top5 = torch.topk(t_sim, k=6)"
   ]
  },
  {
   "cell_type": "code",
   "execution_count": 34,
   "metadata": {},
   "outputs": [
    {
     "data": {
      "text/plain": [
       "[0, 753, 2223, 808, 784, 2458]"
      ]
     },
     "execution_count": 34,
     "metadata": {},
     "output_type": "execute_result"
    }
   ],
   "source": [
    "t_sim_top5.indices[0].tolist()"
   ]
  },
  {
   "cell_type": "code",
   "execution_count": 39,
   "metadata": {},
   "outputs": [
    {
     "name": "stdout",
     "output_type": "stream",
     "text": [
      "articleID                                           ARTICLE_0006\n",
      "Title                          Setting Up HTTP(S) Load Balancing\n",
      "Content        HTTP(S) load balancing provides global load ba...\n",
      "Format                                                      HTML\n",
      "Language                                                      en\n",
      "userID                                                 USER_1304\n",
      "userCountry                                                  NaN\n",
      "userRegion                                                   NaN\n",
      "Name: 6, dtype: object\n",
      "\n",
      "articleID                                           ARTICLE_2817\n",
      "Title          Setting Up SSL proxy for Google Cloud Load Bal...\n",
      "Content        Alpha This is an Alpha release of Setting Up S...\n",
      "Format                                                      HTML\n",
      "Language                                                      en\n",
      "userID                                                 USER_1304\n",
      "userCountry                                                  NaN\n",
      "userRegion                                                   NaN\n",
      "Name: 2817, dtype: object\n",
      "\n",
      "articleID                                           ARTICLE_1071\n",
      "Title          How HTTP/2 is Changing Web Performance Best Pr...\n",
      "Content        This post is part one of a two-part series det...\n",
      "Format                                                      HTML\n",
      "Language                                                      en\n",
      "userID                                                 USER_0674\n",
      "userCountry                                                  NaN\n",
      "userRegion                                                   NaN\n",
      "Name: 1071, dtype: object\n",
      "\n",
      "articleID                                           ARTICLE_1174\n",
      "Title                                        Building for HTTP/2\n",
      "Content        Earlier this year, I got the chance to speak w...\n",
      "Format                                                      HTML\n",
      "Language                                                      en\n",
      "userID                                                 USER_0674\n",
      "userCountry                                                  NaN\n",
      "userRegion                                                   NaN\n",
      "Name: 1174, dtype: object\n",
      "\n",
      "articleID                                           ARTICLE_0268\n",
      "Title          Introducing the new Google Cloud Load Balancin...\n",
      "Content        Our user interface (UI) is everything that you...\n",
      "Format                                                      HTML\n",
      "Language                                                      en\n",
      "userID                                                 USER_0336\n",
      "userCountry                                                  NaN\n",
      "userRegion                                                   NaN\n",
      "Name: 268, dtype: object\n",
      "\n",
      "articleID                                           ARTICLE_1015\n",
      "Title          Serverless Data Sync in Web Apps with Bit Torrent\n",
      "Content        Our team has built a lot of Progressive Web Ap...\n",
      "Format                                                      HTML\n",
      "Language                                                      en\n",
      "userID                                                 USER_0674\n",
      "userCountry                                                  NaN\n",
      "userRegion                                                   NaN\n",
      "Name: 1015, dtype: object\n",
      "\n"
     ]
    }
   ],
   "source": [
    "for idx in t_sim_top5.indices[6].tolist():\n",
    "    sim_article = article.iloc[idx]\n",
    "    print(sim_article)\n",
    "    print()"
   ]
  }
 ],
 "metadata": {
  "kernelspec": {
   "display_name": "dacon",
   "language": "python",
   "name": "python3"
  },
  "language_info": {
   "codemirror_mode": {
    "name": "ipython",
    "version": 3
   },
   "file_extension": ".py",
   "mimetype": "text/x-python",
   "name": "python",
   "nbconvert_exporter": "python",
   "pygments_lexer": "ipython3",
   "version": "3.11.9"
  }
 },
 "nbformat": 4,
 "nbformat_minor": 2
}
