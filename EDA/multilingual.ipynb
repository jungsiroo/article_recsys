{
 "cells": [
  {
   "cell_type": "code",
   "execution_count": 1,
   "metadata": {},
   "outputs": [
    {
     "name": "stderr",
     "output_type": "stream",
     "text": [
      "/home/elicer/.anaconda3/envs/dacon/lib/python3.11/site-packages/sentence_transformers/cross_encoder/CrossEncoder.py:13: TqdmExperimentalWarning: Using `tqdm.autonotebook.tqdm` in notebook mode. Use `tqdm.tqdm` instead to force console mode (e.g. in jupyter console)\n",
      "  from tqdm.autonotebook import tqdm, trange\n",
      "2024-10-26 12:37:02.656306: I tensorflow/core/util/port.cc:153] oneDNN custom operations are on. You may see slightly different numerical results due to floating-point round-off errors from different computation orders. To turn them off, set the environment variable `TF_ENABLE_ONEDNN_OPTS=0`.\n",
      "2024-10-26 12:37:03.325074: E external/local_xla/xla/stream_executor/cuda/cuda_fft.cc:485] Unable to register cuFFT factory: Attempting to register factory for plugin cuFFT when one has already been registered\n",
      "2024-10-26 12:37:03.514736: E external/local_xla/xla/stream_executor/cuda/cuda_dnn.cc:8454] Unable to register cuDNN factory: Attempting to register factory for plugin cuDNN when one has already been registered\n",
      "2024-10-26 12:37:03.530239: E external/local_xla/xla/stream_executor/cuda/cuda_blas.cc:1452] Unable to register cuBLAS factory: Attempting to register factory for plugin cuBLAS when one has already been registered\n",
      "2024-10-26 12:37:03.857647: I tensorflow/core/platform/cpu_feature_guard.cc:210] This TensorFlow binary is optimized to use available CPU instructions in performance-critical operations.\n",
      "To enable the following instructions: AVX2 AVX512F AVX512_VNNI FMA, in other operations, rebuild TensorFlow with the appropriate compiler flags.\n",
      "2024-10-26 12:37:09.691516: W tensorflow/compiler/tf2tensorrt/utils/py_utils.cc:38] TF-TRT Warning: Could not find TensorRT\n",
      "/home/elicer/.anaconda3/envs/dacon/lib/python3.11/site-packages/huggingface_hub/file_download.py:1132: FutureWarning: `resume_download` is deprecated and will be removed in version 1.0.0. Downloads always resume when possible. If you want to force a new download, use `force_download=True`.\n",
      "  warnings.warn(\n"
     ]
    }
   ],
   "source": [
    "from sentence_transformers import SentenceTransformer, util\n",
    "model = SentenceTransformer('sentence-transformers/paraphrase-multilingual-MiniLM-L12-v2')"
   ]
  },
  {
   "cell_type": "code",
   "execution_count": 2,
   "metadata": {},
   "outputs": [],
   "source": [
    "import pandas as pd\n",
    "article = pd.read_csv('../data/article_info.csv')\n",
    "\n",
    "titles = article['Title'].tolist()\n",
    "t_embeddings = model.encode(titles)\n",
    "\n",
    "contents = article['Content'].tolist()\n",
    "c_embeddings = model.encode(contents)"
   ]
  },
  {
   "cell_type": "code",
   "execution_count": 3,
   "metadata": {},
   "outputs": [],
   "source": [
    "t_sim = util.cos_sim(t_embeddings, t_embeddings)\n",
    "c_sim = util.cos_sim(c_embeddings, c_embeddings)"
   ]
  },
  {
   "cell_type": "code",
   "execution_count": 4,
   "metadata": {},
   "outputs": [],
   "source": [
    "import torch\n",
    "t_sim_top5 = torch.topk(t_sim, k=6)\n",
    "c_sim_top5 = torch.topk(t_sim, k=6)"
   ]
  },
  {
   "cell_type": "code",
   "execution_count": 34,
   "metadata": {},
   "outputs": [
    {
     "data": {
      "text/plain": [
       "[0, 753, 2223, 808, 784, 2458]"
      ]
     },
     "execution_count": 34,
     "metadata": {},
     "output_type": "execute_result"
    }
   ],
   "source": [
    "t_sim_top5.indices[0].tolist()"
   ]
  },
  {
   "cell_type": "code",
   "execution_count": 9,
   "metadata": {},
   "outputs": [
    {
     "name": "stdout",
     "output_type": "stream",
     "text": [
      "articleID                                           ARTICLE_0029\n",
      "Title                            Google+ is five years old today\n",
      "Content        Somehow, don't ask me how , Google's zombie of...\n",
      "Format                                                      HTML\n",
      "Language                                                      en\n",
      "userID                                                 USER_1179\n",
      "userCountry                                                  NaN\n",
      "userRegion                                                   NaN\n",
      "Name: 29, dtype: object\n",
      "\n",
      "articleID                                           ARTICLE_0440\n",
      "Title                      Google I/O 2016: Develop, Grow & Earn\n",
      "Content        Earlier today, we kicked off our 10-year celeb...\n",
      "Format                                                      HTML\n",
      "Language                                                      en\n",
      "userID                                                 USER_0146\n",
      "userCountry                                                  NaN\n",
      "userRegion                                                   NaN\n",
      "Name: 440, dtype: object\n",
      "\n",
      "articleID                                           ARTICLE_1360\n",
      "Title          Google Cloud Machine Learning family grows wit...\n",
      "Content        Google Cloud Machine Learning is one of our fa...\n",
      "Format                                                      HTML\n",
      "Language                                                      en\n",
      "userID                                                 USER_0336\n",
      "userCountry                                                   BR\n",
      "userRegion                                                    SP\n",
      "Name: 1360, dtype: object\n",
      "\n",
      "articleID                                           ARTICLE_2087\n",
      "Title          7 Vital SEO Trends for Google Rankings in 2017...\n",
      "Content        Use these seven SEO trends to improve your Goo...\n",
      "Format                                                      HTML\n",
      "Language                                                      en\n",
      "userID                                                 USER_1177\n",
      "userCountry                                                   BR\n",
      "userRegion                                                    MG\n",
      "Name: 2087, dtype: object\n",
      "\n",
      "articleID                                           ARTICLE_1351\n",
      "Title          Confira as novidades apresentadas no Google I/...\n",
      "Content        Nesta quarta-feira rolou o Google I/O, o tão e...\n",
      "Format                                                      HTML\n",
      "Language                                                      pt\n",
      "userID                                                 USER_0804\n",
      "userCountry                                                  NaN\n",
      "userRegion                                                   NaN\n",
      "Name: 1351, dtype: object\n",
      "\n",
      "articleID                                           ARTICLE_1978\n",
      "Title                              Get ready for Google I/O 2016\n",
      "Content        Posted by Mike Pegg, Head of Developer Marketi...\n",
      "Format                                                      HTML\n",
      "Language                                                      en\n",
      "userID                                                 USER_0222\n",
      "userCountry                                                  NaN\n",
      "userRegion                                                   NaN\n",
      "Name: 1978, dtype: object\n",
      "\n"
     ]
    }
   ],
   "source": [
    "for idx in c_sim_top5.indices[29].tolist():\n",
    "    sim_article = article.iloc[idx]\n",
    "    print(sim_article)\n",
    "    print()"
   ]
  }
 ],
 "metadata": {
  "kernelspec": {
   "display_name": "dacon",
   "language": "python",
   "name": "python3"
  },
  "language_info": {
   "codemirror_mode": {
    "name": "ipython",
    "version": 3
   },
   "file_extension": ".py",
   "mimetype": "text/x-python",
   "name": "python",
   "nbconvert_exporter": "python",
   "pygments_lexer": "ipython3",
   "version": "3.11.9"
  }
 },
 "nbformat": 4,
 "nbformat_minor": 2
}
